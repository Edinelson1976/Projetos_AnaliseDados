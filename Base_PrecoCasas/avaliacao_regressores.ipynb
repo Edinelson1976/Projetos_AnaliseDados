{
 "cells": [
  {
   "cell_type": "markdown",
   "metadata": {},
   "source": [
    "# Avaliação de Modelos de Regressão\n",
    "\n",
    "### Dataset\n",
    "**'House-Prices'**. Estimar o valor das casas com base em suas características (*n_quartos*, *n_banheiros*, *area_util*, *area_externa*, *n_andares*, *estado_da_casa*, *ano_construcao*, *ano_renovacao*, *localização*, entre outras)\n",
    "\n",
    "### Proposta\n",
    "Realizar a comparação de modelos de regressão utilizando validação cruzada a fim de selecionar aqueles que apresentam melhor precisão"
   ]
  },
  {
   "cell_type": "markdown",
   "metadata": {},
   "source": [
    "## Funcionamento\n",
    "Na função **create_test_model**, define-se os modelos a serem avaliados com os parâmetros desejados, e atribui-se um nome de identificação a cada um deles.\n",
    "\n",
    "Em seguida, na seção *Código*, adiciona-se os nomes atribuídos, no passo anterior, ao dicionário **all_models** e utiliza-se a variável **use_models** para selecionar os modelos que se deseja comparar.\n",
    "\n",
    "Por fim, o algoritmo oferece 3 respostas de saída:\n",
    "\n",
    "1. **Arquivo csv** com todos os resultados obtidos, caso se deseje fazer outra análise independente. O nome do arquivo a ser gerado pode ser definido alterando-se a variável *nome_arquivo*;\n",
    "2. **Gráfico** para visualização gráfica da comparação dos valores obtidos;\n",
    "3. **DataFrame** *average_result* para exibição da média final em forma de tabela"
   ]
  },
  {
   "cell_type": "code",
   "execution_count": 104,
   "metadata": {},
   "outputs": [],
   "source": [
    "# =====   Importação das Bibliotecas   ===== #\n",
    "from pandas import read_csv, DataFrame, Series\n",
    "from numpy import zeros, array\n",
    "import matplotlib.pyplot as plt\n",
    "\n",
    "from sklearn.linear_model import LinearRegression\n",
    "from sklearn.tree import DecisionTreeRegressor\n",
    "from sklearn.ensemble import RandomForestRegressor\n",
    "from sklearn.svm import SVR\n",
    "from sklearn.neural_network import MLPRegressor\n",
    "\n",
    "from sklearn.preprocessing import StandardScaler\n",
    "from sklearn.model_selection import StratifiedKFold\n",
    "from sklearn.metrics import mean_absolute_error\n",
    "\n",
    "# Desabilita os warnings\n",
    "import warnings\n",
    "warnings.filterwarnings('ignore')"
   ]
  },
  {
   "cell_type": "code",
   "execution_count": 2,
   "metadata": {},
   "outputs": [],
   "source": [
    "# Criação e Teste dos modelos escolhidos\n",
    "# Definir as opções de modelos disponiveis que se deseja comparar\n",
    "def create_test_model(regressor, index_train, index_test):\n",
    "    if regressor == 'regressao':\n",
    "        modelo = LinearRegression()\n",
    "    \n",
    "    elif regressor == 'arvore':\n",
    "        modelo = DecisionTreeRegressor(random_state=1)\n",
    "    \n",
    "    elif regressor == 'forest':\n",
    "        modelo = RandomForestRegressor(n_estimators=40, random_state=0)\n",
    "    \n",
    "    elif regressor == 'svm':\n",
    "        modelo = SVR(kernel='rbf', C=2.0, gamma='auto')\n",
    "    \n",
    "    elif regressor == 'rna':\n",
    "        modelo = MLPRegressor(max_iter=1000, tol=0.000001, solver='adam',\n",
    "                           hidden_layer_sizes=(9,9))\n",
    "    else:\n",
    "        raise NameError ('Modelo escolhido nao esta na base de dados')\n",
    "    \n",
    "    modelo.fit(previsores[index_train], classe[index_train])\n",
    "    previsoes = modelo.predict(previsores[index_test])\n",
    "    previsoes = scaler.inverse_transform(previsoes)\n",
    "    \n",
    "    score = modelo.score(previsores[index_test], classe[index_test])\n",
    "\n",
    "    return previsoes, score"
   ]
  },
  {
   "cell_type": "code",
   "execution_count": 1,
   "metadata": {},
   "outputs": [],
   "source": [
    "# Avaliação da precisão dos modelos\n",
    "def avalia_modelos(previsores, classe, regressor, n_seed, n_folds=10):\n",
    "    print('\\nRegressor: {}'.format(regressor.title()))\n",
    "    \n",
    "    resultado = []\n",
    "    for seed in range(n_seed):\n",
    "        kfold = StratifiedKFold(n_splits=n_folds, shuffle=True, random_state=seed)\n",
    "        \n",
    "        precisao = []\n",
    "        for i_train, i_test in kfold.split(previsores, zeros(shape=(classe.shape[0], 1))):\n",
    "            # Criacao e Teste do modelo\n",
    "            previsoes, score = create_test_model(regressor, i_train, i_test)\n",
    "            \n",
    "            \n",
    "            # Avaliacao do modelo\n",
    "            erro_medio = -mean_absolute_error(scaler.inverse_transform(classe[i_test]), previsoes)\n",
    "            precisao.append([score, erro_medio]) # score = correlacao\n",
    "        \n",
    "        precisao = array(precisao)\n",
    "        resultado.append(precisao.mean(axis=0))\n",
    "        print(\"seed {}: {:.5f} / ${:.2f}\".format(seed, precisao.mean(axis=0)[0], -precisao.mean(axis=0)[1]))\n",
    "    \n",
    "    return resultado"
   ]
  },
  {
   "cell_type": "code",
   "execution_count": 121,
   "metadata": {},
   "outputs": [],
   "source": [
    "# Armazena em disco (arquivo csv) os resultados obtivos a medida que realiza a avaliação\n",
    "def create_file(resultado, modelo):\n",
    "    global result_dataframe\n",
    "    colunas = ['seed', '{}_score'.format(modelo), '{}_erro'.format(modelo)]\n",
    "    \n",
    "    vetor = []\n",
    "    for i in range(len(resultado)):\n",
    "        vetor.append([i, resultado[i][0], resultado[i][1]])\n",
    "    vetor = DataFrame(vetor, columns=colunas)\n",
    "    \n",
    "    result_dataframe = result_dataframe.merge(vetor, on='seed')\n",
    "    \n",
    "    colunas = list(result_dataframe.columns)\n",
    "    arquivo = DataFrame(result_dataframe, columns=colunas)\n",
    "    arquivo.to_csv(nome_arquivo, index=False)"
   ]
  },
  {
   "cell_type": "code",
   "execution_count": 3,
   "metadata": {},
   "outputs": [],
   "source": [
    "# Função a ser chamada pelo usuário que da inicio ao processo de avaliação dos modelos\n",
    "def executa_avaliacao(seeds, use_models):\n",
    "    global model_result, model_name\n",
    "    \n",
    "    for modelo in use_models:\n",
    "        model_name.append(all_models[modelo].title())\n",
    "        result = avalia_modelos(previsores, classe, regressor=all_models[modelo], n_seed=seeds)\n",
    "        model_result.append(result)\n",
    "        average_result[all_models[modelo].title()] = Series(array(result).mean(axis=0))\n",
    "        \n",
    "        create_file(result, modelo=all_models[modelo].title())\n",
    "    \n",
    "    average_result.sort_values(by=0, axis=1, ascending=False, inplace=True)\n",
    "    average_result.index = ['score', 'erro_medio']"
   ]
  },
  {
   "cell_type": "code",
   "execution_count": 4,
   "metadata": {},
   "outputs": [],
   "source": [
    "# Visualização gráfica da média dos resultados de cada modelo\n",
    "def view_accuracy():\n",
    "    fig, ax1 = plt.subplots(figsize=(9,6))\n",
    "    ax1.plot(average_result.columns, average_result.loc['score'], color='b', marker='o')\n",
    "    ax1.set_ylabel('Score', color='b')\n",
    "    for lb in ax1.get_yticklabels():\n",
    "        lb.set_color('b')\n",
    "    plt.ylim(top=max(average_result.loc['score'])+0.025)\n",
    "    plt.grid(axis='y', linewidth=\"0.5\")\n",
    "    \n",
    "    ax2 = ax1.twinx()\n",
    "    ax2.plot(average_result.columns, average_result.loc['erro_medio'], color='red', marker='o')\n",
    "    plt.yticks(list(range(round(min(average_result.loc['erro_medio'])/1000)*1000,\n",
    "                          round(max(average_result.loc['erro_medio'])/1000)*1000, 5000)))\n",
    "    ax2.set_ylabel('Erro Medio', color='red')\n",
    "    for lb in ax2.get_yticklabels():\n",
    "        lb.set_color('red')\n",
    "\n",
    "    plt.title(\"Score e Erro Medio\")"
   ]
  },
  {
   "cell_type": "markdown",
   "metadata": {},
   "source": [
    "## Seção: Código"
   ]
  },
  {
   "cell_type": "code",
   "execution_count": 131,
   "metadata": {},
   "outputs": [],
   "source": [
    "# Importação da base de dados e pre processamento dos dados\n",
    "base = read_csv(\"house_prices.csv\")\n",
    "\n",
    "previsores = base.iloc[:, 3:19].values\n",
    "classe = base.iloc[:, 2:3].values\n",
    "\n",
    "scaler = StandardScaler()\n",
    "previsores = scaler.fit_transform(previsores)\n",
    "classe = scaler.fit_transform(classe)"
   ]
  },
  {
   "cell_type": "code",
   "execution_count": 132,
   "metadata": {},
   "outputs": [],
   "source": [
    "# =====   Seleção dos modelos a utilizar   ===== #\n",
    "# Selecionar os modelos alterando a variável use_models\n",
    "all_models = {1: 'regressao', 2: 'arvore', 3: 'forest', 4: 'svm', 5: 'rna'}\n",
    "use_models = [1, 2, 3, 4, 5]\n",
    "\n",
    "# nome do arquivo a serem salvos os resultados\n",
    "nome_arquivo = 'resultado_houseprice.csv'"
   ]
  },
  {
   "cell_type": "markdown",
   "metadata": {},
   "source": [
    "### Execução"
   ]
  },
  {
   "cell_type": "code",
   "execution_count": 135,
   "metadata": {},
   "outputs": [],
   "source": [
    "# Criacao do dataframe que armazenara os resultados\n",
    "seeds = 10\n",
    "result_dataframe = DataFrame(list(range(seeds)), columns=['seed'])\n",
    "average_result = DataFrame()"
   ]
  },
  {
   "cell_type": "code",
   "execution_count": 136,
   "metadata": {
    "scrolled": false
   },
   "outputs": [
    {
     "name": "stdout",
     "output_type": "stream",
     "text": [
      "Resultados: (score / erro_medio) \n",
      "\n",
      "Regressor: Regressao\n",
      "seed 0: 0.69683 / $126290.42\n",
      "seed 1: 0.69839 / $126276.38\n",
      "seed 2: 0.69705 / $126188.45\n",
      "seed 3: 0.69756 / $126274.94\n",
      "seed 4: 0.69637 / $126180.23\n",
      "seed 5: 0.69616 / $126223.83\n",
      "seed 6: 0.69723 / $126203.86\n",
      "seed 7: 0.69699 / $126246.43\n",
      "seed 8: 0.69729 / $126237.24\n",
      "seed 9: 0.69749 / $126168.82\n",
      "\n",
      "Regressor: Arvore\n",
      "seed 0: 0.73701 / $98395.98\n",
      "seed 1: 0.73205 / $98663.44\n",
      "seed 2: 0.76924 / $96233.53\n",
      "seed 3: 0.75758 / $96306.00\n",
      "seed 4: 0.74779 / $97577.93\n",
      "seed 5: 0.76198 / $96605.28\n",
      "seed 6: 0.75922 / $96177.56\n",
      "seed 7: 0.74149 / $97788.07\n",
      "seed 8: 0.75006 / $97127.12\n",
      "seed 9: 0.75068 / $97122.44\n",
      "\n",
      "Regressor: Forest\n",
      "seed 0: 0.87502 / $69431.89\n",
      "seed 1: 0.87867 / $69103.96\n",
      "seed 2: 0.87569 / $69382.62\n",
      "seed 3: 0.87826 / $68695.32\n",
      "seed 4: 0.87839 / $69189.88\n",
      "seed 5: 0.87556 / $68903.85\n",
      "seed 6: 0.87781 / $69117.21\n",
      "seed 7: 0.87575 / $69268.35\n",
      "seed 8: 0.87775 / $69087.73\n",
      "seed 9: 0.87417 / $69433.92\n",
      "\n",
      "Regressor: Svm\n",
      "seed 0: 0.78823 / $80994.90\n",
      "seed 1: 0.79107 / $80971.53\n",
      "seed 2: 0.78432 / $81287.41\n",
      "seed 3: 0.78101 / $81443.92\n",
      "seed 4: 0.78281 / $81467.73\n",
      "seed 5: 0.78422 / $81448.78\n",
      "seed 6: 0.78346 / $81342.87\n",
      "seed 7: 0.78277 / $81397.12\n",
      "seed 8: 0.78182 / $81069.96\n",
      "seed 9: 0.78289 / $81338.70\n",
      "\n",
      "Regressor: Rna\n",
      "seed 0: 0.87592 / $75891.42\n",
      "seed 1: 0.88057 / $74572.72\n",
      "seed 2: 0.87659 / $76039.74\n",
      "seed 3: 0.88004 / $74958.76\n",
      "seed 4: 0.87642 / $76617.16\n",
      "seed 5: 0.87967 / $75471.31\n",
      "seed 6: 0.87998 / $75552.85\n",
      "seed 7: 0.87991 / $75932.67\n",
      "seed 8: 0.87845 / $74618.69\n",
      "seed 9: 0.87854 / $76095.38\n"
     ]
    }
   ],
   "source": [
    "# =====   Coleta dos resultados e Criação do arquivo csv   ===== #\n",
    "print(\"Resultados: (score / erro_medio) \")\n",
    "model_result = []\n",
    "model_name = []\n",
    "\n",
    "# Coleta os resultados associando-os aos respectivos modelos e Armazena-os em disco em formato csv\n",
    "executa_avaliacao(seeds, use_models)\n",
    "\n",
    "# para teste utilizando 1 unico modelo:\n",
    "#executa_avaliacao(seeds, [3])"
   ]
  },
  {
   "cell_type": "code",
   "execution_count": 137,
   "metadata": {
    "scrolled": false
   },
   "outputs": [
    {
     "data": {
      "image/png": "[encoded data removed]",
      "text/plain": [
       "<Figure size 648x432 with 2 Axes>"
      ]
     },
     "metadata": {
      "needs_background": "light"
     },
     "output_type": "display_data"
    }
   ],
   "source": [
    "# Visualização Gráfica das Precisões\n",
    "view_accuracy()"
   ]
  },
  {
   "cell_type": "code",
   "execution_count": 138,
   "metadata": {},
   "outputs": [
    {
     "data": {
      "text/html": [
       "<div>\n",
       "<style scoped>\n",
       "    .dataframe tbody tr th:only-of-type {\n",
       "        vertical-align: middle;\n",
       "    }\n",
       "\n",
       "    .dataframe tbody tr th {\n",
       "        vertical-align: top;\n",
       "    }\n",
       "\n",
       "    .dataframe thead th {\n",
       "        text-align: right;\n",
       "    }\n",
       "</style>\n",
       "<table border=\"1\" class=\"dataframe\">\n",
       "  <thead>\n",
       "    <tr style=\"text-align: right;\">\n",
       "      <th></th>\n",
       "      <th>Rna</th>\n",
       "      <th>Forest</th>\n",
       "      <th>Svm</th>\n",
       "      <th>Arvore</th>\n",
       "      <th>Regressao</th>\n",
       "    </tr>\n",
       "  </thead>\n",
       "  <tbody>\n",
       "    <tr>\n",
       "      <th>score</th>\n",
       "      <td>0.878609</td>\n",
       "      <td>0.876707</td>\n",
       "      <td>0.784258</td>\n",
       "      <td>0.750709</td>\n",
       "      <td>0.697137</td>\n",
       "    </tr>\n",
       "    <tr>\n",
       "      <th>erro_medio</th>\n",
       "      <td>-75575.069860</td>\n",
       "      <td>-69161.472591</td>\n",
       "      <td>-81276.291487</td>\n",
       "      <td>-97199.735151</td>\n",
       "      <td>-126229.058843</td>\n",
       "    </tr>\n",
       "  </tbody>\n",
       "</table>\n",
       "</div>"
      ],
      "text/plain": [
       "                     Rna        Forest           Svm        Arvore  \\\n",
       "score           0.878609      0.876707      0.784258      0.750709   \n",
       "erro_medio -75575.069860 -69161.472591 -81276.291487 -97199.735151   \n",
       "\n",
       "                Regressao  \n",
       "score            0.697137  \n",
       "erro_medio -126229.058843  "
      ]
     },
     "execution_count": 138,
     "metadata": {},
     "output_type": "execute_result"
    }
   ],
   "source": [
    "average_result"
   ]
  },
  {
   "cell_type": "code",
   "execution_count": null,
   "metadata": {},
   "outputs": [],
   "source": [
    "# Regressores com melhores resultados:\n",
    "# RNA e RandomForest"
   ]
  }
 ],
 "metadata": {
  "kernelspec": {
   "display_name": "Python 3",
   "language": "python",
   "name": "python3"
  },
  "language_info": {
   "codemirror_mode": {
    "name": "ipython",
    "version": 3
   },
   "file_extension": ".py",
   "mimetype": "text/x-python",
   "name": "python",
   "nbconvert_exporter": "python",
   "pygments_lexer": "ipython3",
   "version": "3.7.3"
  }
 },
 "nbformat": 4,
 "nbformat_minor": 2
}
