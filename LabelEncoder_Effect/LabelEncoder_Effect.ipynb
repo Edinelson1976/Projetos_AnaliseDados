{
 "cells": [
  {
   "cell_type": "markdown",
   "metadata": {},
   "source": [
    "# Impacto do processo de LabelEncoder para variáveis Categóricas Ordinais"
   ]
  },
  {
   "cell_type": "markdown",
   "metadata": {},
   "source": [
    "### Hipótese Proposta\n",
    "Quando falamos de análise de dados, podemos dividir as variáveis em **numéricas** e **categóricas**. As categóricas podem ser **nominais**, ou seja, aquelas não mensuráveis, ou **ordinais**, aquelas que podem ser categorizadas sob uma determinada ordenação.\n",
    "A ideia proposta busca verifica qual o impacto do processo de preprocessamento de dados LabelEncoder para variáveis ordinais.\n",
    "\n",
    "A fim de explicar o fundamento por trás da proposta, considere o seguinte exemplo ilustrativo:\n",
    "Dado um dataset com um atributo *faixa_etária*, com os possíveis valores (*criança*, *adolescente*, *jovem*, *adulto*, *idoso*). Busca-se predizer se tal indivíduo sofre de um doença que sabe-se que há um tendência de manifestação dela conforme o passar da idade (como por exemplo câncer)."
   ]
  },
  {
   "cell_type": "markdown",
   "metadata": {},
   "source": [
    "### Funcionamento do processo de LabelEncoder\n",
    "O processo de preprocessamento LabelEncoder transforma os valores de variáveis categóricas em valores numéricos de 0 a n-1, onde n é o numero de valores únicos encontrados para aquela variável. Porém, essa transformação é **feita sempre em ordem alfabética**, ou seja, organiza-se os valores em ordem alfabética e, seguindo essa ordem, associa os valores numéricos.\n",
    "\n",
    "Dado o exemplo anterior, os possíveis valores para a variável *faixa_etária* são (*criança*, *adolescente*, *jovem*, *adulto*, *idoso*), ou seja, são 5 possíveis valores, logo eles receberão valores de 0 a 4. Dessa forma, tem-se as seguintes associações:\n",
    "\n",
    "**adolescente = 0; adulto = 1; criança = 2; idoso = 3; jovem = 4**"
   ]
  },
  {
   "cell_type": "markdown",
   "metadata": {},
   "source": [
    "### Mais sobre a Hipótese\n",
    "A hipótese propõe que a atribuição de valores seguindo a relação de ordenação entre os valores da variável pode implicar em melhoria da eficiência dos algoritmos de machine learning em relação a atribuição de valores de forma convencional, como é feito pelo LabelEncoder.\n",
    "\n",
    "Ou seja, utilizando o exemplo acima, adotar as seguintes associações:\n",
    "**criança = 0; adolescente = 1; jovem = 2; adulto = 3; idoso = 4**\n",
    "resultaria em um modelo de machine learning com melhor precisão, pois permitiria ao modelo enxergar melhor essa tendência existente"
   ]
  },
  {
   "cell_type": "code",
   "execution_count": 67,
   "metadata": {},
   "outputs": [],
   "source": [
    "# ===== Importacao de Bibliotecas ===== #\n",
    "import pandas as pd\n",
    "import numpy as np\n",
    "import matplotlib.pyplot as plt\n",
    "\n",
    "from sklearn.preprocessing import LabelEncoder, StandardScaler\n",
    "from sklearn.model_selection import StratifiedKFold\n",
    "from sklearn.metrics import accuracy_score, confusion_matrix\n",
    "\n",
    "from sklearn.tree import DecisionTreeClassifier\n",
    "from sklearn.ensemble import RandomForestClassifier\n",
    "from sklearn.neighbors import KNeighborsClassifier\n",
    "from sklearn.svm import SVC\n",
    "from sklearn.neural_network import MLPClassifier\n",
    "\n",
    "import warnings\n",
    "warnings.filterwarnings('ignore')"
   ]
  },
  {
   "cell_type": "code",
   "execution_count": 47,
   "metadata": {},
   "outputs": [],
   "source": [
    "def cria_dicionario(lista):\n",
    "    dict_lista = {}\n",
    "    for i in range(len(lista)):\n",
    "        dict_lista[lista[i]] = i\n",
    "    \n",
    "    return dict_lista\n",
    "\n",
    "def especial_LabelEncoder(dicionarios, colunas):\n",
    "    for n in range(len(previsores2)):\n",
    "        for dicionario, col in zip(dicionarios, colunas):\n",
    "            for key, val in dicionario.items():\n",
    "                if previsores2[n][col] == key:\n",
    "                    previsores2[n][col] = val\n",
    "                    break"
   ]
  },
  {
   "cell_type": "code",
   "execution_count": 49,
   "metadata": {},
   "outputs": [],
   "source": [
    "def create_test_model(i_train, i_test):\n",
    "    modelo1 = KNeighborsClassifier(n_neighbors=9, metric='minkowski', p=2)\n",
    "    modelo1.fit(previsores1[i_train], classe[i_train])\n",
    "    previsoes1 = modelo1.predict(previsores1[i_test])\n",
    "    score1 = accuracy_score(classe[i_test], previsoes1)\n",
    "    \n",
    "    modelo2 = KNeighborsClassifier(n_neighbors=9, metric='minkowski', p=2)\n",
    "    modelo2.fit(previsores2[i_train], classe[i_train])\n",
    "    previsoes2 = modelo2.predict(previsores2[i_test])\n",
    "    score2 = accuracy_score(classe[i_test], previsoes2)\n",
    "    \n",
    "    return score1, score2"
   ]
  },
  {
   "cell_type": "code",
   "execution_count": 200,
   "metadata": {},
   "outputs": [],
   "source": [
    "def avalia_modelo(n_seeds):\n",
    "    global precisao1, precisao2\n",
    "    \n",
    "    for seed in range(n_seeds):\n",
    "        kfold = StratifiedKFold(n_splits=10, shuffle=True, random_state=seed)\n",
    "        \n",
    "        score_seed1 = []\n",
    "        score_seed2 = []\n",
    "        for i_train, i_test in kfold.split(previsores1, np.zeros(shape=(classe.shape[0], 1))):\n",
    "            score1, score2 = create_test_model(i_train, i_test)\n",
    "            \n",
    "            score_seed1.append(score1)\n",
    "            score_seed2.append(score2)\n",
    "        \n",
    "        score_seed1 = np.array(score_seed1)\n",
    "        score_seed2 = np.array(score_seed2)\n",
    "        \n",
    "        precisao1.append(score_seed1.mean())\n",
    "        precisao2.append(score_seed2.mean())\n",
    "        \n",
    "        if score_seed1.mean() > score_seed2.mean():\n",
    "            print(\"seed {}: Score 1 - {:.5f} > {:.5f}\".format(seed, score_seed1.mean(), score_seed2.mean()))\n",
    "        elif score_seed1.mean() < score_seed2.mean():\n",
    "            print(\"seed {}: Score 2 - {:.5f} < {:.5f}\".format(seed, score_seed1.mean(), score_seed2.mean()))\n",
    "        else:\n",
    "            print(\"seed {}: Empate - {:.5f} = {:.5f}\".format(seed, score_seed1.mean(), score_seed2.mean()))\n",
    "    \n",
    "    precisao1 = np.array(precisao1)\n",
    "    precisao2 = np.array(precisao2)\n",
    "    print(\"Media: \\n 1: {:.5f}\\n 2: {:.5f}\".format(precisao1.mean(), precisao2.mean()))\n",
    "    \n",
    "    return precisao1.mean(), precisao2.mean()"
   ]
  },
  {
   "cell_type": "code",
   "execution_count": 178,
   "metadata": {},
   "outputs": [],
   "source": [
    "base = pd.read_csv(\"Credito.csv\", sep=\";\", encoding=\"latin1\")"
   ]
  },
  {
   "cell_type": "code",
   "execution_count": 179,
   "metadata": {},
   "outputs": [
    {
     "name": "stdout",
     "output_type": "stream",
     "text": [
      "['<0', '0<=X<200', 'sem cheque', '>=200']\n",
      "['nenhuma economia conhecida', '<100', '500<=X<1000', '>=1000', '100<=X<500']\n",
      "['>=7', '1<=X<4', '4<=X<7', 'desempregado', '<1']\n",
      "['especializado', 'não especializado', 'alta qualificação/autonomo/Gerente', 'unemp/unespecializado non res']\n"
     ]
    }
   ],
   "source": [
    "# Analise da do dataset permite identificar 4 atributos categoricos ordinais\n",
    "cheq_esp = list(base['CHEQUEESPECIAL'].unique())\n",
    "bal_med_cred = list(base['BALANCO_MEDIO_CREDITO'].unique())\n",
    "empregado = list(base['EMPREGADO'].unique())\n",
    "emprego = list(base['EMPREGO'].unique())\n",
    "\n",
    "print(cheq_esp)\n",
    "print(bal_med_cred)\n",
    "print(empregado)\n",
    "print(emprego)"
   ]
  },
  {
   "cell_type": "code",
   "execution_count": 180,
   "metadata": {},
   "outputs": [],
   "source": [
    "cheq_esp = ['<0', '0<=X<200', '>=200', 'sem cheque']\n",
    "bal_med_cred = ['nenhuma economia conhecida', '<100', '100<=X<500', '500<=X<1000', '>=1000']\n",
    "empregado = ['desempregado', '<1', '1<=X<4', '4<=X<7', '>=7']\n",
    "emprego = ['unemp/unespecializado non res', 'não especializado', 'especializado', 'alta qualificação/autonomo/Gerente']\n",
    "\n",
    "dict_cheq_esp = cria_dicionario(cheq_esp)\n",
    "dict_bal_med_cred = cria_dicionario(bal_med_cred)\n",
    "dict_empregado = cria_dicionario(empregado)\n",
    "dict_emprego = cria_dicionario(emprego)\n",
    "\n",
    "all_dict = [dict_cheq_esp, dict_bal_med_cred, dict_empregado, dict_emprego]"
   ]
  },
  {
   "cell_type": "code",
   "execution_count": 181,
   "metadata": {},
   "outputs": [],
   "source": [
    "# Divisao dos atributos previsores e classe\n",
    "previsores1 = base.iloc[:, 0:19].values # atributos previsores p/ utilizar LabelEncoder\n",
    "previsores2 = base.iloc[:, 0:19].values # atributos previsores p/ utilizar processo proposto\n",
    "classe = base.iloc[:, 19].values"
   ]
  },
  {
   "cell_type": "code",
   "execution_count": 182,
   "metadata": {},
   "outputs": [],
   "source": [
    "# Preprocessamento LabelEncoder\n",
    "encoder = LabelEncoder()\n",
    "\n",
    "# Processo tradicional de LabelEncoder para todas as colunas com atributos categoricos\n",
    "colunas = [0, 2, 3, 5, 6, 8, 9, 11, 13, 14, 16, 18]\n",
    "for c in colunas:\n",
    "    previsores1[:, c] = encoder.fit_transform(previsores1[:, c])\n",
    "\n",
    "# Processo tradicional de LabelEncoder somente para as colunas com atributos categoricos não ordinais\n",
    "colunas = [2, 3, 8, 9, 11, 13, 14, 18]\n",
    "for c in colunas:\n",
    "    previsores2[:, c] = encoder.fit_transform(previsores1[:, c])\n",
    "\n",
    "# Processo proposto de LabelEncoder para atributos ordinais\n",
    "colunas = [0, 5, 6, 16]\n",
    "especial_LabelEncoder(all_dict, colunas)\n",
    "\n",
    "\n",
    "classe = encoder.fit_transform(classe)"
   ]
  },
  {
   "cell_type": "code",
   "execution_count": 183,
   "metadata": {},
   "outputs": [],
   "source": [
    "# Preprocessamento Escalonamento\n",
    "scaler = StandardScaler()\n",
    "previsores1 = scaler.fit_transform(previsores1)\n",
    "previsores2 = scaler.fit_transform(previsores2)"
   ]
  },
  {
   "cell_type": "code",
   "execution_count": 184,
   "metadata": {},
   "outputs": [
    {
     "name": "stdout",
     "output_type": "stream",
     "text": [
      "seed 0: Score 2 - 0.73600 < 0.74500\n",
      "seed 1: Score 2 - 0.72300 < 0.75500\n",
      "seed 2: Score 2 - 0.72500 < 0.74300\n",
      "seed 3: Score 2 - 0.71600 < 0.73800\n",
      "seed 4: Score 2 - 0.71900 < 0.74000\n",
      "seed 5: Score 2 - 0.70800 < 0.74400\n",
      "seed 6: Score 2 - 0.71400 < 0.73600\n",
      "seed 7: Score 2 - 0.71400 < 0.74600\n",
      "seed 8: Score 2 - 0.72700 < 0.73900\n",
      "seed 9: Score 2 - 0.72600 < 0.74400\n",
      "seed 10: Score 2 - 0.71500 < 0.74300\n",
      "seed 11: Score 2 - 0.71400 < 0.73700\n",
      "seed 12: Score 2 - 0.71700 < 0.74100\n",
      "seed 13: Score 2 - 0.72000 < 0.74600\n",
      "seed 14: Score 2 - 0.72900 < 0.74400\n",
      "seed 15: Score 2 - 0.72100 < 0.74500\n",
      "seed 16: Score 2 - 0.73100 < 0.76300\n",
      "seed 17: Score 2 - 0.73000 < 0.75200\n",
      "seed 18: Score 2 - 0.71900 < 0.74000\n",
      "seed 19: Score 2 - 0.71100 < 0.74800\n",
      "Media: \n",
      " 1: 0.72075\n",
      " 2: 0.74445\n"
     ]
    }
   ],
   "source": [
    "# Avaliação\n",
    "n_seed = 20\n",
    "precisao1 = []\n",
    "precisao2 = []\n",
    "\n",
    "media1, media2 = avalia_modelo(n_seed)"
   ]
  },
  {
   "cell_type": "code",
   "execution_count": null,
   "metadata": {},
   "outputs": [],
   "source": [
    "# Resultados com KNN\n",
    "\"\"\"\n",
    "seed 0: Score 2 - 0.73600 < 0.74500\n",
    "seed 1: Score 2 - 0.72300 < 0.75500\n",
    "seed 2: Score 2 - 0.72500 < 0.74300\n",
    "seed 3: Score 2 - 0.71600 < 0.73800\n",
    "seed 4: Score 2 - 0.71900 < 0.74000\n",
    "seed 5: Score 2 - 0.70800 < 0.74400\n",
    "seed 6: Score 2 - 0.71400 < 0.73600\n",
    "seed 7: Score 2 - 0.71400 < 0.74600\n",
    "seed 8: Score 2 - 0.72700 < 0.73900\n",
    "seed 9: Score 2 - 0.72600 < 0.74400\n",
    "seed 10: Score 2 - 0.71500 < 0.74300\n",
    "seed 11: Score 2 - 0.71400 < 0.73700\n",
    "seed 12: Score 2 - 0.71700 < 0.74100\n",
    "seed 13: Score 2 - 0.72000 < 0.74600\n",
    "seed 14: Score 2 - 0.72900 < 0.74400\n",
    "seed 15: Score 2 - 0.72100 < 0.74500\n",
    "seed 16: Score 2 - 0.73100 < 0.76300\n",
    "seed 17: Score 2 - 0.73000 < 0.75200\n",
    "seed 18: Score 2 - 0.71900 < 0.74000\n",
    "seed 19: Score 2 - 0.71100 < 0.74800\n",
    "Media: \n",
    " 1: 0.72075\n",
    " 2: 0.74445\n",
    "\"\"\""
   ]
  },
  {
   "cell_type": "markdown",
   "metadata": {},
   "source": [
    "### Analise da Tendência na relação das variaveis ordinais e a classe\n",
    "A análise feita a seguir mostra possíveis tendências na relacao entre os atributos ordinais e porcentagem de registros de bons/maus pagadores.\n",
    "\n",
    "Essa análise pode auxiliar na definição da melhor ordem a ser seguida no processo de LabelEncoder personalizado e ao realizar a alteração pode-se avaliar a resposta obtida utilizando o código acima a fim de confirmar que a mudança de fato gera uma melhora no resultado"
   ]
  },
  {
   "cell_type": "code",
   "execution_count": 197,
   "metadata": {},
   "outputs": [],
   "source": [
    "def analise_atributo_bar(atributo):\n",
    "    from math import ceil\n",
    "    n_row = ceil(len(base[atributo].unique())/2)\n",
    "    j = 1\n",
    "    plt.figure(figsize=(10,9))\n",
    "    for opt_value in base[atributo].unique():\n",
    "        registros = base.loc[base[atributo] == opt_value]\n",
    "        \n",
    "        reg_bom = len(registros.loc[registros['CLASSE'] == 'bom'])\n",
    "        reg_ruim = len(registros.loc[registros['CLASSE'] == 'ruim'])\n",
    "        \n",
    "        plt.subplot(n_row, 2, j)\n",
    "        plt.pie([reg_bom, reg_ruim], labels=['Bom', 'Ruim'], startangle=90, counterclock=False,\n",
    "                autopct=lambda p: '{:.1f}%'.format(p))\n",
    "        plt.title('{}'.format(str(opt_value).title()))\n",
    "        \n",
    "        j += 1\n",
    "\n",
    "def analise_atributo(atributo):\n",
    "    ordem_orig = base[atributo].unique()\n",
    "    ordem_prop = ordem_proposta(atributo)\n",
    "    \n",
    "    reg_tot = []\n",
    "    reg_bom = []\n",
    "    plt.figure(figsize=(12,9))\n",
    "    plt.subplot(2,1,1)\n",
    "    for opt_value in ordem_orig:\n",
    "        registros = base.loc[base[atributo] == opt_value]\n",
    "        reg_tot.append(len(registros))\n",
    "        reg_bom.append(len(registros.loc[registros['CLASSE'] == 'bom']))\n",
    "    for i in range(len(reg_bom)):\n",
    "        reg_bom[i] = reg_bom[i]/reg_tot[i] * 100\n",
    "\n",
    "    #plt.bar(ordem_orig, reg_tot)\n",
    "    #plt.bar(ordem_orig, reg_bom, color='orange')\n",
    "    plt.plot(ordem_orig, reg_bom, 'o-')\n",
    "    plt.ylabel('% Bom Pagadores')\n",
    "    plt.title('Ordem Original')\n",
    "    \n",
    "    \n",
    "    # ORDEM PROPOSTA\n",
    "    reg_tot = []\n",
    "    reg_bom = []\n",
    "    plt.subplot(2,1,2)\n",
    "    for opt_value in ordem_prop:\n",
    "        registros = base.loc[base[atributo] == opt_value]\n",
    "        reg_tot.append(len(registros))\n",
    "        reg_bom.append(len(registros.loc[registros['CLASSE'] == 'bom']))\n",
    "    for i in range(len(reg_bom)):\n",
    "        reg_bom[i] = reg_bom[i]/reg_tot[i] * 100\n",
    "\n",
    "    #plt.bar(ordem_prop, reg_tot)\n",
    "    #plt.bar(ordem_prop, reg_bom, color='orange')\n",
    "    plt.plot(ordem_prop, reg_bom, color='orange', marker='o')\n",
    "    plt.ylabel('% Bom Pagadores')\n",
    "    plt.title('Ordem Proposta')"
   ]
  },
  {
   "cell_type": "code",
   "execution_count": 198,
   "metadata": {},
   "outputs": [],
   "source": [
    "def ordem_proposta(atributo):\n",
    "    if atributo == 'CHEQUEESPECIAL':\n",
    "        return cheq_esp\n",
    "    elif atributo == 'BALANCO_MEDIO_CREDITO':\n",
    "        return bal_med_cred\n",
    "    elif atributo == 'EMPREGADO':\n",
    "        return empregado\n",
    "    elif atributo == 'EMPREGO':\n",
    "        return emprego"
   ]
  },
  {
   "cell_type": "code",
   "execution_count": 199,
   "metadata": {},
   "outputs": [
    {
     "name": "stdout",
     "output_type": "stream",
     "text": [
      "Ordem original: ['especializado' 'não especializado' 'alta qualificação/autonomo/Gerente'\n",
      " 'unemp/unespecializado non res']\n",
      "Ordem proposta: ['unemp/unespecializado non res', 'não especializado', 'especializado', 'alta qualificação/autonomo/Gerente']\n"
     ]
    },
    {
     "data": {
      "image/png": "[encoded data removed]",
      "text/plain": [
       "<Figure size 864x648 with 2 Axes>"
      ]
     },
     "metadata": {
      "needs_background": "light"
     },
     "output_type": "display_data"
    }
   ],
   "source": [
    "# atributos = 'CHEQUEESPECIAL', 'BALANCO_MEDIO_CREDITO', 'EMPREGADO', 'EMPREGO'\n",
    "chosen_att = 'EMPREGO'\n",
    "print(\"Ordem original: {}\".format(base[chosen_att].unique()))\n",
    "print(\"Ordem proposta: {}\".format(ordem_proposta(chosen_att)))\n",
    "\n",
    "analise_atributo(chosen_att)"
   ]
  }
 ],
 "metadata": {
  "kernelspec": {
   "display_name": "Python 3",
   "language": "python",
   "name": "python3"
  },
  "language_info": {
   "codemirror_mode": {
    "name": "ipython",
    "version": 3
   },
   "file_extension": ".py",
   "mimetype": "text/x-python",
   "name": "python",
   "nbconvert_exporter": "python",
   "pygments_lexer": "ipython3",
   "version": "3.7.3"
  }
 },
 "nbformat": 4,
 "nbformat_minor": 2
}
