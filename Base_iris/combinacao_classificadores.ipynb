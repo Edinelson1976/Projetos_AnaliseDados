{
 "cells": [
  {
   "cell_type": "markdown",
   "metadata": {},
   "source": [
    "# Base de Dados Iris\n",
    "Identificar espécie de flor com base nas dimensões da pétala e sépala"
   ]
  },
  {
   "cell_type": "markdown",
   "metadata": {},
   "source": [
    "### Proposta:\n",
    "Combinar os modelos de classificação"
   ]
  },
  {
   "cell_type": "code",
   "execution_count": 12,
   "metadata": {},
   "outputs": [],
   "source": [
    "# =====   Importação das Bibliotecas   ===== #\n",
    "from pandas import read_csv, DataFrame, Series\n",
    "import numpy as np\n",
    "import pickle\n",
    "import matplotlib.pyplot as plt\n",
    "\n",
    "from sklearn.neural_network import MLPClassifier\n",
    "from sklearn.svm import SVC\n",
    "from sklearn.neighbors import KNeighborsClassifier\n",
    "\n",
    "from sklearn.preprocessing import LabelEncoder\n",
    "\n",
    "# Desabilita os warnings\n",
    "import warnings\n",
    "warnings.filterwarnings('ignore')"
   ]
  },
  {
   "cell_type": "code",
   "execution_count": 13,
   "metadata": {},
   "outputs": [],
   "source": [
    "# Cria os modelos que mostraram ter melhor precisão\n",
    "def create_models():\n",
    "    rna_model = MLPClassifier(max_iter=1000, tol=0.000001, solver='adam',\n",
    "                           hidden_layer_sizes=(100), activation='relu',\n",
    "                           batch_size=200, learning_rate_init=0.001)\n",
    "    rna_model.fit(previsores, classe)\n",
    "\n",
    "    svm_model = SVC(kernel='rbf', random_state=1, C=2.0, gamma='auto')\n",
    "    svm_model.fit(previsores, classe)\n",
    "\n",
    "    knn_model = KNeighborsClassifier(n_neighbors=5, metric='minkowski', p=2)\n",
    "    knn_model.fit(previsores, classe)\n",
    "    \n",
    "    return rna_model, svm_model, knn_model"
   ]
  },
  {
   "cell_type": "code",
   "execution_count": 14,
   "metadata": {},
   "outputs": [],
   "source": [
    "# Salva os modelos de classificação em disco\n",
    "def save_models(modelos, nomes):\n",
    "    for modelo, nome in zip(modelos, nomes):\n",
    "        arquivo = nome + '.sav'\n",
    "        pickle.dump(modelo, open(arquivo, 'wb'))"
   ]
  },
  {
   "cell_type": "code",
   "execution_count": 22,
   "metadata": {},
   "outputs": [],
   "source": [
    "def analiza_registro(registro, nome_modelo):\n",
    "    # Realiza as previsoes para cada um dos modelos\n",
    "    # retorna as previsoes em um DataFrame\n",
    "    dados = np.zeros((len(registro), len(nome_modelo)))\n",
    "    previsoes = DataFrame(dados, columns=nome_modelo)\n",
    "\n",
    "    for modelo, nome in zip(classificadores, nome_modelo):\n",
    "        #print(modelo.predict(registro))\n",
    "        previsoes[nome] = modelo.predict(registro)\n",
    "    \n",
    "    return previsoes"
   ]
  },
  {
   "cell_type": "code",
   "execution_count": 16,
   "metadata": {},
   "outputs": [],
   "source": [
    "def combine_models(previsoes):\n",
    "    # Define a classe do registro combinando as previsoes\n",
    "    # utiliza o metodo de pluralidade (mais votos)\n",
    "    # retorna as classificacoes definidas pelo metodo e\n",
    "    #         os registros concatenanto as classificacoes com os atributos\n",
    "    classificacoes = np.zeros(len(previsoes))\n",
    "    classificacoes = classificacoes.reshape(-1,1)\n",
    "\n",
    "    for i in range(len(previsoes)):\n",
    "        lista = previsoes.iloc[i].values\n",
    "        elemento, n_repeat = np.unique(lista, return_counts=True)\n",
    "        aux = dict(zip(n_repeat, elemento))\n",
    "        classificacoes[i] = aux[max(aux.keys())]\n",
    "    \n",
    "    registros = np.concatenate((novo_registro, classificacoes), axis=1)\n",
    "    \n",
    "    return registros, classificacoes"
   ]
  },
  {
   "cell_type": "code",
   "execution_count": 136,
   "metadata": {},
   "outputs": [],
   "source": [
    "# Plotagem dos gráficos de forma padronizada\n",
    "def plot_graficos(x, y, reg):\n",
    "    marcadores = ['v', '^', '<', '>', 's', 'P', '*', 'X', 'D', '1', '2', '3', '4', ]\n",
    "    plt.scatter(iris_setosa[x], iris_setosa[y], color=\"blue\", label=\"Setosa\")\n",
    "    plt.scatter(iris_versi[x], iris_versi[y], color=\"green\", label=\"Versicolor\")\n",
    "    plt.scatter(iris_virgi[x], iris_virgi[y], color=\"red\", label=\"Virginica\")\n",
    "    for n in range(len(reg)):\n",
    "        if \"Iris-setosa\" in reg[n:n+1].classe.values:\n",
    "            plt.scatter(reg[n:n+1][x].values, reg[n:n+1][y].values, color=\"blue\", marker=marcadores[n])\n",
    "        elif \"Iris-versicolor\" in reg[n:n+1].classe.values:\n",
    "            plt.scatter(reg[n:n+1][x].values, reg[n:n+1][y].values, color=\"green\", marker=marcadores[n])\n",
    "        elif \"Iris-virginica\" in reg[n:n+1].classe.values:\n",
    "            plt.scatter(reg[n:n+1][x].values, reg[n:n+1][y].values, color=\"red\", marker=marcadores[n])\n",
    "    plt.legend()\n",
    "    plt.xlabel(x)\n",
    "    plt.ylabel(y)\n",
    "    plt.title(\"{} x {}\".format(x,y))\n",
    "    plt.show()"
   ]
  },
  {
   "cell_type": "code",
   "execution_count": 18,
   "metadata": {},
   "outputs": [],
   "source": [
    "# Importação da base de dados Iris\n",
    "base = read_csv(\"iris.csv\")\n",
    "atributos = list(base.columns)\n",
    "\n",
    "previsores = base.iloc[:, 0:4].values\n",
    "classe = base.iloc[:, 4].values\n",
    "encoder = LabelEncoder()\n",
    "classe = encoder.fit_transform(classe)"
   ]
  },
  {
   "cell_type": "code",
   "execution_count": 19,
   "metadata": {},
   "outputs": [],
   "source": [
    "# =====   Criação dos modelos a utilizar   ===== #\n",
    "list_models = ['modelo_rna', 'modelo_svm', 'modelo_knn']"
   ]
  },
  {
   "cell_type": "code",
   "execution_count": 20,
   "metadata": {},
   "outputs": [],
   "source": [
    "# OPÇÃO 1:\n",
    "# Cria os modelos de classificacao e os salva em disco (opcional)\n",
    "classificadores = create_models()\n",
    "#save_models(classificadores, nomes=list_models)"
   ]
  },
  {
   "cell_type": "code",
   "execution_count": null,
   "metadata": {},
   "outputs": [],
   "source": [
    "# OPÇÃO 2:\n",
    "# Carrega os modelo salvos em disco\n",
    "model_rna = pickle.load(open('modelo_rna.sav', 'rb'))\n",
    "model_svm = pickle.load(open('modelo_svm.sav', 'rb'))\n",
    "model_knn = pickle.load(open('modelo_knn.sav', 'rb'))\n",
    "classificadores = [model_rna, model_svm, model_knn]"
   ]
  },
  {
   "cell_type": "code",
   "execution_count": 21,
   "metadata": {},
   "outputs": [
    {
     "data": {
      "text/html": [
       "<div>\n",
       "<style scoped>\n",
       "    .dataframe tbody tr th:only-of-type {\n",
       "        vertical-align: middle;\n",
       "    }\n",
       "\n",
       "    .dataframe tbody tr th {\n",
       "        vertical-align: top;\n",
       "    }\n",
       "\n",
       "    .dataframe thead th {\n",
       "        text-align: right;\n",
       "    }\n",
       "</style>\n",
       "<table border=\"1\" class=\"dataframe\">\n",
       "  <thead>\n",
       "    <tr style=\"text-align: right;\">\n",
       "      <th></th>\n",
       "      <th>modelo_rna</th>\n",
       "      <th>modelo_svm</th>\n",
       "      <th>modelo_knn</th>\n",
       "    </tr>\n",
       "  </thead>\n",
       "  <tbody>\n",
       "    <tr>\n",
       "      <th>0</th>\n",
       "      <td>0.98</td>\n",
       "      <td>0.993333</td>\n",
       "      <td>0.966667</td>\n",
       "    </tr>\n",
       "  </tbody>\n",
       "</table>\n",
       "</div>"
      ],
      "text/plain": [
       "   modelo_rna  modelo_svm  modelo_knn\n",
       "0        0.98    0.993333    0.966667"
      ]
     },
     "execution_count": 21,
     "metadata": {},
     "output_type": "execute_result"
    }
   ],
   "source": [
    "# Avaliação dos modelos carregados\n",
    "precisoes = DataFrame(columns=list_models)\n",
    "for i in range(len(classificadores)):\n",
    "    precisoes[list_models[i]] = Series(classificadores[i].score(previsores, classe))\n",
    "\n",
    "precisoes"
   ]
  },
  {
   "cell_type": "markdown",
   "metadata": {},
   "source": [
    "### Previsões da classificação de cada um dos modelos separados"
   ]
  },
  {
   "cell_type": "code",
   "execution_count": 180,
   "metadata": {},
   "outputs": [
    {
     "data": {
      "text/html": [
       "<div>\n",
       "<style scoped>\n",
       "    .dataframe tbody tr th:only-of-type {\n",
       "        vertical-align: middle;\n",
       "    }\n",
       "\n",
       "    .dataframe tbody tr th {\n",
       "        vertical-align: top;\n",
       "    }\n",
       "\n",
       "    .dataframe thead th {\n",
       "        text-align: right;\n",
       "    }\n",
       "</style>\n",
       "<table border=\"1\" class=\"dataframe\">\n",
       "  <thead>\n",
       "    <tr style=\"text-align: right;\">\n",
       "      <th></th>\n",
       "      <th>modelo_rna</th>\n",
       "      <th>modelo_svm</th>\n",
       "      <th>modelo_knn</th>\n",
       "    </tr>\n",
       "  </thead>\n",
       "  <tbody>\n",
       "    <tr>\n",
       "      <th>0</th>\n",
       "      <td>0</td>\n",
       "      <td>1</td>\n",
       "      <td>0</td>\n",
       "    </tr>\n",
       "    <tr>\n",
       "      <th>1</th>\n",
       "      <td>1</td>\n",
       "      <td>1</td>\n",
       "      <td>1</td>\n",
       "    </tr>\n",
       "    <tr>\n",
       "      <th>2</th>\n",
       "      <td>2</td>\n",
       "      <td>2</td>\n",
       "      <td>2</td>\n",
       "    </tr>\n",
       "    <tr>\n",
       "      <th>3</th>\n",
       "      <td>1</td>\n",
       "      <td>1</td>\n",
       "      <td>1</td>\n",
       "    </tr>\n",
       "    <tr>\n",
       "      <th>4</th>\n",
       "      <td>1</td>\n",
       "      <td>1</td>\n",
       "      <td>1</td>\n",
       "    </tr>\n",
       "    <tr>\n",
       "      <th>5</th>\n",
       "      <td>1</td>\n",
       "      <td>1</td>\n",
       "      <td>1</td>\n",
       "    </tr>\n",
       "    <tr>\n",
       "      <th>6</th>\n",
       "      <td>2</td>\n",
       "      <td>2</td>\n",
       "      <td>2</td>\n",
       "    </tr>\n",
       "    <tr>\n",
       "      <th>7</th>\n",
       "      <td>0</td>\n",
       "      <td>0</td>\n",
       "      <td>0</td>\n",
       "    </tr>\n",
       "    <tr>\n",
       "      <th>8</th>\n",
       "      <td>0</td>\n",
       "      <td>1</td>\n",
       "      <td>1</td>\n",
       "    </tr>\n",
       "    <tr>\n",
       "      <th>9</th>\n",
       "      <td>0</td>\n",
       "      <td>1</td>\n",
       "      <td>0</td>\n",
       "    </tr>\n",
       "    <tr>\n",
       "      <th>10</th>\n",
       "      <td>1</td>\n",
       "      <td>1</td>\n",
       "      <td>1</td>\n",
       "    </tr>\n",
       "  </tbody>\n",
       "</table>\n",
       "</div>"
      ],
      "text/plain": [
       "    modelo_rna  modelo_svm  modelo_knn\n",
       "0            0           1           0\n",
       "1            1           1           1\n",
       "2            2           2           2\n",
       "3            1           1           1\n",
       "4            1           1           1\n",
       "5            1           1           1\n",
       "6            2           2           2\n",
       "7            0           0           0\n",
       "8            0           1           1\n",
       "9            0           1           0\n",
       "10           1           1           1"
      ]
     },
     "execution_count": 180,
     "metadata": {},
     "output_type": "execute_result"
    }
   ],
   "source": [
    "# =====   Teste de Classificação de novo registro   ===== #\n",
    "novo_registro = [[6.5, 2.5, 2.2, 0.7], [6.6, 2.1, 4.8, 0.9], [5.5, 2.4, 4.7, 2.0],\n",
    "                [4.3, 2.2, 4.0, 0.3], [5.7, 3.2, 4.0, 1.6], [6.7, 3.3, 4.3, 1.8], [6.1, 2.2, 5.4, 1.3],\n",
    "                [5.5, 3.2, 2.3, 0.8], [5.5, 3.2, 2.9, 0.6], [7.7, 3.7, 2.5, 0.8], [6.6, 2.6, 2.5, 0.7]]\n",
    "novo_registro = np.array(novo_registro)\n",
    "#novo_registro = previsores\n",
    "#print(f\"Registros a avaliar:\\n {novo_registro} \")\n",
    "\n",
    "# Realização das previsoes\n",
    "previsoes = analiza_registro(novo_registro, list_models)\n",
    "previsoes"
   ]
  },
  {
   "cell_type": "markdown",
   "metadata": {},
   "source": [
    "### Classificação final dos novo registros após combinação dos modelos"
   ]
  },
  {
   "cell_type": "code",
   "execution_count": 181,
   "metadata": {},
   "outputs": [
    {
     "data": {
      "text/html": [
       "<div>\n",
       "<style scoped>\n",
       "    .dataframe tbody tr th:only-of-type {\n",
       "        vertical-align: middle;\n",
       "    }\n",
       "\n",
       "    .dataframe tbody tr th {\n",
       "        vertical-align: top;\n",
       "    }\n",
       "\n",
       "    .dataframe thead th {\n",
       "        text-align: right;\n",
       "    }\n",
       "</style>\n",
       "<table border=\"1\" class=\"dataframe\">\n",
       "  <thead>\n",
       "    <tr style=\"text-align: right;\">\n",
       "      <th></th>\n",
       "      <th>sepal length</th>\n",
       "      <th>sepal width</th>\n",
       "      <th>petal length</th>\n",
       "      <th>petal width</th>\n",
       "      <th>class</th>\n",
       "      <th>classe</th>\n",
       "    </tr>\n",
       "  </thead>\n",
       "  <tbody>\n",
       "    <tr>\n",
       "      <th>0</th>\n",
       "      <td>6.5</td>\n",
       "      <td>2.5</td>\n",
       "      <td>2.2</td>\n",
       "      <td>0.7</td>\n",
       "      <td>0.0</td>\n",
       "      <td>Iris-setosa</td>\n",
       "    </tr>\n",
       "    <tr>\n",
       "      <th>1</th>\n",
       "      <td>6.6</td>\n",
       "      <td>2.1</td>\n",
       "      <td>4.8</td>\n",
       "      <td>0.9</td>\n",
       "      <td>1.0</td>\n",
       "      <td>Iris-versicolor</td>\n",
       "    </tr>\n",
       "    <tr>\n",
       "      <th>2</th>\n",
       "      <td>5.5</td>\n",
       "      <td>2.4</td>\n",
       "      <td>4.7</td>\n",
       "      <td>2.0</td>\n",
       "      <td>2.0</td>\n",
       "      <td>Iris-virginica</td>\n",
       "    </tr>\n",
       "    <tr>\n",
       "      <th>3</th>\n",
       "      <td>4.3</td>\n",
       "      <td>2.2</td>\n",
       "      <td>4.0</td>\n",
       "      <td>0.3</td>\n",
       "      <td>1.0</td>\n",
       "      <td>Iris-versicolor</td>\n",
       "    </tr>\n",
       "    <tr>\n",
       "      <th>4</th>\n",
       "      <td>5.7</td>\n",
       "      <td>3.2</td>\n",
       "      <td>4.0</td>\n",
       "      <td>1.6</td>\n",
       "      <td>1.0</td>\n",
       "      <td>Iris-versicolor</td>\n",
       "    </tr>\n",
       "    <tr>\n",
       "      <th>5</th>\n",
       "      <td>6.7</td>\n",
       "      <td>3.3</td>\n",
       "      <td>4.3</td>\n",
       "      <td>1.8</td>\n",
       "      <td>1.0</td>\n",
       "      <td>Iris-versicolor</td>\n",
       "    </tr>\n",
       "    <tr>\n",
       "      <th>6</th>\n",
       "      <td>6.1</td>\n",
       "      <td>2.2</td>\n",
       "      <td>5.4</td>\n",
       "      <td>1.3</td>\n",
       "      <td>2.0</td>\n",
       "      <td>Iris-virginica</td>\n",
       "    </tr>\n",
       "    <tr>\n",
       "      <th>7</th>\n",
       "      <td>5.5</td>\n",
       "      <td>3.2</td>\n",
       "      <td>2.3</td>\n",
       "      <td>0.8</td>\n",
       "      <td>0.0</td>\n",
       "      <td>Iris-setosa</td>\n",
       "    </tr>\n",
       "    <tr>\n",
       "      <th>8</th>\n",
       "      <td>5.5</td>\n",
       "      <td>3.2</td>\n",
       "      <td>2.9</td>\n",
       "      <td>0.6</td>\n",
       "      <td>1.0</td>\n",
       "      <td>Iris-versicolor</td>\n",
       "    </tr>\n",
       "    <tr>\n",
       "      <th>9</th>\n",
       "      <td>7.7</td>\n",
       "      <td>3.7</td>\n",
       "      <td>2.5</td>\n",
       "      <td>0.8</td>\n",
       "      <td>0.0</td>\n",
       "      <td>Iris-setosa</td>\n",
       "    </tr>\n",
       "    <tr>\n",
       "      <th>10</th>\n",
       "      <td>6.6</td>\n",
       "      <td>2.6</td>\n",
       "      <td>2.5</td>\n",
       "      <td>0.7</td>\n",
       "      <td>1.0</td>\n",
       "      <td>Iris-versicolor</td>\n",
       "    </tr>\n",
       "  </tbody>\n",
       "</table>\n",
       "</div>"
      ],
      "text/plain": [
       "    sepal length  sepal width  petal length  petal width  class  \\\n",
       "0            6.5          2.5           2.2          0.7    0.0   \n",
       "1            6.6          2.1           4.8          0.9    1.0   \n",
       "2            5.5          2.4           4.7          2.0    2.0   \n",
       "3            4.3          2.2           4.0          0.3    1.0   \n",
       "4            5.7          3.2           4.0          1.6    1.0   \n",
       "5            6.7          3.3           4.3          1.8    1.0   \n",
       "6            6.1          2.2           5.4          1.3    2.0   \n",
       "7            5.5          3.2           2.3          0.8    0.0   \n",
       "8            5.5          3.2           2.9          0.6    1.0   \n",
       "9            7.7          3.7           2.5          0.8    0.0   \n",
       "10           6.6          2.6           2.5          0.7    1.0   \n",
       "\n",
       "             classe  \n",
       "0       Iris-setosa  \n",
       "1   Iris-versicolor  \n",
       "2    Iris-virginica  \n",
       "3   Iris-versicolor  \n",
       "4   Iris-versicolor  \n",
       "5   Iris-versicolor  \n",
       "6    Iris-virginica  \n",
       "7       Iris-setosa  \n",
       "8   Iris-versicolor  \n",
       "9       Iris-setosa  \n",
       "10  Iris-versicolor  "
      ]
     },
     "execution_count": 181,
     "metadata": {},
     "output_type": "execute_result"
    }
   ],
   "source": [
    "# =====   Combinação dos Classificadores   ===== #\n",
    "registros, _ = combine_models(previsoes)\n",
    "registros = DataFrame(registros, columns=atributos)\n",
    "dict_classe = {0: \"Iris-setosa\", 1: \"Iris-versicolor\", 2: \"Iris-virginica\"}\n",
    "for i in dict_classe.keys():\n",
    "    registros.loc[registros[\"class\"] == i, \"classe\"] = dict_classe[i]\n",
    "\n",
    "registros"
   ]
  },
  {
   "cell_type": "markdown",
   "metadata": {},
   "source": [
    "### Análise dos Resultados Obtidos\n",
    "Novos registros são exibidos em formatos diferentes e nas cores da classe atribuída a eles"
   ]
  },
  {
   "cell_type": "code",
   "execution_count": 182,
   "metadata": {},
   "outputs": [
    {
     "data": {
      "image/png": "[encoded data removed]",
      "text/plain": [
       "<Figure size 432x288 with 1 Axes>"
      ]
     },
     "metadata": {
      "needs_background": "light"
     },
     "output_type": "display_data"
    },
    {
     "data": {
      "image/png": "[encoded data removed]",
      "text/plain": [
       "<Figure size 432x288 with 1 Axes>"
      ]
     },
     "metadata": {
      "needs_background": "light"
     },
     "output_type": "display_data"
    },
    {
     "data": {
      "image/png": "[encoded data removed]",
      "text/plain": [
       "<Figure size 432x288 with 1 Axes>"
      ]
     },
     "metadata": {
      "needs_background": "light"
     },
     "output_type": "display_data"
    }
   ],
   "source": [
    "# =====   Analise dos Resultados Obtidos   ===== #\n",
    "iris_setosa = base.loc[base[\"class\"] == \"Iris-setosa\"]\n",
    "iris_versi = base.loc[base[\"class\"] == \"Iris-versicolor\"]\n",
    "iris_virgi = base.loc[base[\"class\"] == \"Iris-virginica\"]\n",
    "\n",
    "plot_graficos(\"petal length\", \"petal width\", registros)\n",
    "plot_graficos(\"sepal width\", \"petal width\", registros)\n",
    "plot_graficos(\"sepal length\", \"petal width\", registros)"
   ]
  }
 ],
 "metadata": {
  "kernelspec": {
   "display_name": "Python 3",
   "language": "python",
   "name": "python3"
  },
  "language_info": {
   "codemirror_mode": {
    "name": "ipython",
    "version": 3
   },
   "file_extension": ".py",
   "mimetype": "text/x-python",
   "name": "python",
   "nbconvert_exporter": "python",
   "pygments_lexer": "ipython3",
   "version": "3.7.3"
  }
 },
 "nbformat": 4,
 "nbformat_minor": 2
}
