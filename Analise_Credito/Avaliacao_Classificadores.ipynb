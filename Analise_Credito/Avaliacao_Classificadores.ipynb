{
 "cells": [
  {
   "cell_type": "markdown",
   "metadata": {},
   "source": [
    "# Base de Dados de Crédito"
   ]
  },
  {
   "cell_type": "markdown",
   "metadata": {},
   "source": [
    "Criar modelo capaz de reconhecer potenciais bons e maus pagadores de crédito"
   ]
  },
  {
   "cell_type": "code",
   "execution_count": 3,
   "metadata": {},
   "outputs": [],
   "source": [
    "# =====   Importação das Bibliotecas   ===== #\n",
    "from pandas import read_csv, DataFrame, Series\n",
    "import numpy as np\n",
    "import matplotlib.pyplot as plt\n",
    "\n",
    "from sklearn.preprocessing import LabelEncoder, StandardScaler\n",
    "from sklearn.model_selection import train_test_split, StratifiedKFold\n",
    "from sklearn.metrics import accuracy_score, confusion_matrix\n",
    "\n",
    "from sklearn.naive_bayes import GaussianNB\n",
    "from sklearn.tree import DecisionTreeClassifier\n",
    "from sklearn.ensemble import RandomForestClassifier\n",
    "from sklearn.neighbors import KNeighborsClassifier\n",
    "from sklearn.svm import SVC\n",
    "from sklearn.neural_network import MLPClassifier\n",
    "\n",
    "import warnings\n",
    "warnings.filterwarnings('ignore')"
   ]
  },
  {
   "cell_type": "code",
   "execution_count": 12,
   "metadata": {},
   "outputs": [],
   "source": [
    "def avalia_modelo(nome, classificador, prev_test, clas_test, verbose=False):\n",
    "    previsoes = classificador.predict(prev_test)\n",
    "    \n",
    "    score = accuracy_score(clas_test, previsoes)\n",
    "    matriz = confusion_matrix(clas_test, previsoes)\n",
    "    \n",
    "    if verbose is True:\n",
    "        print(\"{}: {}\".format(nome, score))\n",
    "    \n",
    "    return score, matriz\n",
    "\n",
    "def split_train_test_data(seed):\n",
    "    dados_train_test = train_test_split(previsores, classe, test_size=0.25, random_state=seed)\n",
    "    prev_train = dados_train_test[0]\n",
    "    prev_test = dados_train_test[1]\n",
    "    clas_train = dados_train_test[2]\n",
    "    clas_test = dados_train_test[3]\n",
    "    \n",
    "    return prev_train, prev_test, clas_train, clas_test\n",
    "\n",
    "def avalia_RandomForest(list_n_tree, n_seeds):\n",
    "    score_medio_total = {}\n",
    "    for tree in list_n_tree:\n",
    "        score_medio = []\n",
    "        \n",
    "        for seed in range(n_seeds):\n",
    "            prev_train, prev_test, clas_train, clas_test = split_train_test_data(seed)\n",
    "        \n",
    "            modeloForest = RandomForestClassifier(n_estimators=tree, random_state=1)\n",
    "            modeloForest.fit(prev_train, clas_train)\n",
    "            scoreForest, _ = avalia_modelo(\"Random Forest\", modeloForest, prev_test, clas_test)\n",
    "            \n",
    "            score_medio.append(scoreForest)\n",
    "        \n",
    "        score_medio = np.array(score_medio)\n",
    "        score_medio_total[tree] = score_medio.mean()\n",
    "    \n",
    "    return score_medio_total\n",
    "        \n",
    "def avalia_KNN(list_n_neighbors, n_seeds):\n",
    "    score_medio_total = {}\n",
    "    for n_neighbor in list_n_neighbors:\n",
    "        score_medio = []\n",
    "        \n",
    "        for seed in range(n_seeds):\n",
    "            prev_train, prev_test, clas_train, clas_test = split_train_test_data(seed)\n",
    "            \n",
    "            modeloKNN = KNeighborsClassifier(n_neighbors=n_neighbor, metric='minkowski', p=2)\n",
    "            modeloKNN.fit(prev_train, clas_train)\n",
    "            scoreKNN, _ = avalia_modelo(\"KNN\", modeloKNN, prev_test, clas_test)\n",
    "            \n",
    "            score_medio.append(scoreKNN)\n",
    "        \n",
    "        score_medio = np.array(score_medio)\n",
    "        score_medio_total[n_neighbor] = score_medio.mean()\n",
    "    \n",
    "    return score_medio_total"
   ]
  },
  {
   "cell_type": "code",
   "execution_count": 6,
   "metadata": {},
   "outputs": [],
   "source": [
    "base = read_csv('Credito.csv', sep=';', encoding='latin1')\n",
    "\n",
    "previsores = base.iloc[:, :19].values\n",
    "classe = base.iloc[:, 19].values\n",
    "\n",
    "\n",
    "# Pre processamento dos dados\n",
    "from sklearn.preprocessing import LabelEncoder, StandardScaler\n",
    "encoder = LabelEncoder()\n",
    "colunas = [0, 2, 3, 5, 6, 8, 9, 11, 13, 14, 16, 18]\n",
    "for col in colunas:\n",
    "    previsores[:, col] = encoder.fit_transform(previsores[:, col])\n",
    "\n",
    "classe = encoder.fit_transform(classe)\n",
    "\n",
    "scaler = StandardScaler()\n",
    "previsores = scaler.fit_transform(previsores)"
   ]
  },
  {
   "cell_type": "markdown",
   "metadata": {},
   "source": [
    "### Analise Inicial de diferentes classificadores"
   ]
  },
  {
   "cell_type": "code",
   "execution_count": 5,
   "metadata": {},
   "outputs": [
    {
     "name": "stdout",
     "output_type": "stream",
     "text": [
      "Naive Bayes: 0.672\n",
      "Decision Tree: 0.672\n",
      "Random Forest: 0.768\n",
      "KNN: 0.744\n",
      "SVM: 0.76\n",
      "RNA: 0.74\n"
     ]
    }
   ],
   "source": [
    "# Analise Inicial\n",
    "att_prev_train, att_prev_test, att_clas_train, att_clas_test = split_train_test_data(0)\n",
    "\n",
    "modeloNB = GaussianNB()\n",
    "modeloNB.fit(att_prev_train, att_clas_train)\n",
    "scoreNB, _ = avalia_modelo(\"Naive Bayes\", modeloNB, att_prev_test, att_clas_test, verbose=True)\n",
    "\n",
    "modeloTree = DecisionTreeClassifier(criterion='entropy', random_state=1)\n",
    "modeloTree.fit(att_prev_train, att_clas_train)\n",
    "scoreTree, _ = avalia_modelo(\"Decision Tree\", modeloTree, att_prev_test, att_clas_test, verbose=True)\n",
    "\n",
    "modeloForest = RandomForestClassifier(n_estimators=12, random_state=1)\n",
    "modeloForest.fit(att_prev_train, att_clas_train)\n",
    "scoreForest, _ = avalia_modelo(\"Random Forest\", modeloForest, att_prev_test, att_clas_test, verbose=True)\n",
    "\n",
    "modeloKNN = KNeighborsClassifier(n_neighbors=9, metric='minkowski', p=2)\n",
    "modeloKNN.fit(att_prev_train, att_clas_train)\n",
    "scoreKNN, _ = avalia_modelo(\"KNN\", modeloKNN, att_prev_test, att_clas_test, verbose=True)\n",
    "\n",
    "modeloSVM = SVC(kernel='rbf', C=2.0)\n",
    "modeloSVM.fit(att_prev_train, att_clas_train)\n",
    "scoreSVM, _ = avalia_modelo(\"SVM\", modeloSVM, att_prev_test, att_clas_test, verbose=True)\n",
    "\n",
    "modeloRNA = MLPClassifier(hidden_layer_sizes=(100), learning_rate_init=0.1, tol =0.000001, random_state=0)\n",
    "modeloRNA.fit(att_prev_train, att_clas_train)\n",
    "scoreRNA, _ = avalia_modelo(\"RNA\", modeloRNA, att_prev_test, att_clas_test, verbose=True)\n"
   ]
  },
  {
   "cell_type": "markdown",
   "metadata": {},
   "source": [
    "Naive Bayes e Decision Tree mostraram resultados menos interessantes"
   ]
  },
  {
   "cell_type": "markdown",
   "metadata": {},
   "source": [
    "### Busca por melhoria nos parametros de RandomForest e KNN"
   ]
  },
  {
   "cell_type": "code",
   "execution_count": 6,
   "metadata": {},
   "outputs": [
    {
     "name": "stdout",
     "output_type": "stream",
     "text": [
      "Melhor n_tree = 85\n",
      "Melhor n_neighbor = 8\n"
     ]
    }
   ],
   "source": [
    "# Busca por melhora nos parametros de RandomForest e KNN\n",
    "scoresForest = avalia_RandomForest(list_n_tree=list(range(50,106, 5)), n_seeds=20)\n",
    "max(scoresForest.values())\n",
    "for key, val in scoresForest.items():\n",
    "    if val == max(scoresForest.values()):\n",
    "        print(\"Melhor n_tree =\", key)\n",
    "\n",
    "scoresKNN = avalia_KNN(list_n_neighbors=list(range(2,15)), n_seeds=20)\n",
    "for key, val in scoresKNN.items():\n",
    "    if val == max(scoresKNN.values()):\n",
    "        print(\"Melhor n_neighbor =\", key)"
   ]
  },
  {
   "cell_type": "markdown",
   "metadata": {},
   "source": [
    "### Visualização das matrizes de confusão"
   ]
  },
  {
   "cell_type": "code",
   "execution_count": 49,
   "metadata": {},
   "outputs": [],
   "source": [
    "# Novos modelos\n",
    "modeloForest = RandomForestClassifier(n_estimators=85, random_state=1)\n",
    "modeloForest.fit(att_prev_train, att_clas_train)\n",
    "scoreForest, matrizForest = avalia_modelo(\"Random Forest\", modeloForest, att_prev_test, att_clas_test)\n",
    "\n",
    "modeloKNN = KNeighborsClassifier(n_neighbors=8, metric='minkowski', p=2)\n",
    "modeloKNN.fit(att_prev_train, att_clas_train)\n",
    "scoreKNN, matrizKNN = avalia_modelo(\"KNN\", modeloKNN, att_prev_test, att_clas_test)\n",
    "\n",
    "modeloSVM = SVC(kernel='rbf', C=2.0)\n",
    "modeloSVM.fit(att_prev_train, att_clas_train)\n",
    "scoreSVM, matrizSVM = avalia_modelo(\"SVM\", modeloSVM, att_prev_test, att_clas_test)\n",
    "\n",
    "modeloRNA = MLPClassifier(hidden_layer_sizes=(100), learning_rate_init=0.1, tol =0.000001, random_state=0)\n",
    "modeloRNA.fit(att_prev_train, att_clas_train)\n",
    "scoreRNA, matrizRNA = avalia_modelo(\"RNA\", modeloRNA, att_prev_test, att_clas_test)"
   ]
  },
  {
   "cell_type": "code",
   "execution_count": 54,
   "metadata": {},
   "outputs": [
    {
     "name": "stdout",
     "output_type": "stream",
     "text": [
      "RandomForest: \n",
      " [[158  18]\n",
      " [ 41  33]] \n",
      "\n",
      "KNN: \n",
      " [[164  12]\n",
      " [ 55  19]] \n",
      "\n",
      "SVM: \n",
      " [[162  14]\n",
      " [ 46  28]] \n",
      "\n",
      "RNA: \n",
      " [[149  27]\n",
      " [ 38  36]]\n"
     ]
    }
   ],
   "source": [
    "print('RandomForest: \\n', matrizForest, '\\n')\n",
    "print('KNN: \\n', matrizKNN, '\\n')\n",
    "print('SVM: \\n', matrizSVM, '\\n')\n",
    "print('RNA: \\n', matrizRNA)"
   ]
  },
  {
   "cell_type": "markdown",
   "metadata": {},
   "source": [
    "### Comparação dos 4 classificadores escolhidos"
   ]
  },
  {
   "cell_type": "code",
   "execution_count": 11,
   "metadata": {},
   "outputs": [],
   "source": [
    "# Criação e Teste dos classificadores escolhidos\n",
    "def create_test_model(classificador, index_train, index_test):\n",
    "    if classificador == 'forest':\n",
    "        modelo = RandomForestClassifier(n_estimators=85, random_state=1)\n",
    "    \n",
    "    elif classificador == 'knn':\n",
    "        modelo = KNeighborsClassifier(n_neighbors=8, metric='minkowski', p=2)\n",
    "    \n",
    "    elif classificador == 'svm':\n",
    "        modelo = SVC(kernel='rbf', C=2.0)\n",
    "    \n",
    "    elif classificador == 'rna':\n",
    "        modelo = MLPClassifier(hidden_layer_sizes=(100), learning_rate_init=0.1, tol =0.000001, random_state=0)\n",
    "    else:\n",
    "        raise NameError ('Modelo escolhido nao esta na base de dados')\n",
    "    \n",
    "    modelo.fit(previsores[index_train], classe[index_train])\n",
    "    previsoes = modelo.predict(previsores[index_test])\n",
    "\n",
    "    return previsoes"
   ]
  },
  {
   "cell_type": "code",
   "execution_count": 10,
   "metadata": {},
   "outputs": [],
   "source": [
    "# Avaliação da precisão dos classificadores\n",
    "def avalia_modelos(previsores, classe, classificador, n_seed, n_folds=10):\n",
    "    print('\\nClassificador: {}'.format(classificador.title()))\n",
    "    \n",
    "    resultado = []\n",
    "    for seed in range(n_seed):\n",
    "        kfold = StratifiedKFold(n_splits=n_folds, shuffle=True, random_state=seed)\n",
    "        \n",
    "        precisao = []\n",
    "        for i_train, i_test in kfold.split(previsores, np.zeros(shape=(classe.shape[0], 1))):\n",
    "            # Criacao e Teste do modelo\n",
    "            previsoes = create_test_model(classificador, i_train, i_test)\n",
    "            \n",
    "            # Avaliacao do modelo\n",
    "            score = accuracy_score(classe[i_test], previsoes)\n",
    "            precisao.append(score)\n",
    "        \n",
    "        precisao = np.array(precisao)\n",
    "        resultado.append(precisao.mean())\n",
    "        print(\"seed {}: {}\".format(seed, precisao.mean()))\n",
    "    \n",
    "    return resultado"
   ]
  },
  {
   "cell_type": "code",
   "execution_count": 13,
   "metadata": {},
   "outputs": [],
   "source": [
    "# Armazena em disco (arquivo csv) os resultados obtivos a medida que realiza a avaliação\n",
    "def create_file(resultado, modelo):\n",
    "    global result_dataframe\n",
    "    \n",
    "    vetor = []\n",
    "    for i in range(len(resultado)):\n",
    "        vetor.append([i, resultado[i]])\n",
    "    vetor = DataFrame(vetor, columns=['seed', modelo])\n",
    "    \n",
    "    result_dataframe = result_dataframe.merge(vetor, on='seed')\n",
    "    \n",
    "    colunas = list(result_dataframe.columns)\n",
    "    arquivo = DataFrame(result_dataframe, columns=colunas)\n",
    "    arquivo.to_csv(nome_arquivo, index=False)\n",
    "\n",
    "def executa_avaliacao(seeds, use_models):\n",
    "    global model_result, model_name\n",
    "    \n",
    "    for modelo in use_models:\n",
    "        model_name.append(all_models[modelo].title())\n",
    "        result = avalia_modelos(previsores, classe, classificador=all_models[modelo], n_seed=seeds)\n",
    "        model_result.append(result)\n",
    "        average_result[all_models[modelo].title()] = Series(np.array(result).mean())\n",
    "        \n",
    "        create_file(result, modelo=all_models[modelo].title())\n",
    "    \n",
    "    average_result.sort_values(by=0, axis=1, ascending=False, inplace=True)"
   ]
  },
  {
   "cell_type": "code",
   "execution_count": 14,
   "metadata": {},
   "outputs": [],
   "source": [
    "# Visualização em grafico a média dos resultados de cada modelo\n",
    "def view_accuracy():\n",
    "    x = average_result.columns\n",
    "    y = average_result.values.tolist()[0]\n",
    "    plt.figure(figsize=(8,5))\n",
    "    plt.plot(x, y, 'o-')\n",
    "    plt.title('Precisão')\n",
    "    plt.xlabel('Modelos')\n",
    "    plt.ylabel('Precisão')"
   ]
  },
  {
   "cell_type": "code",
   "execution_count": 15,
   "metadata": {},
   "outputs": [],
   "source": [
    "# =====   Seleção dos modelos a utilizar   ===== #\n",
    "# Selecionar os modelos alterando a variavel use_models\n",
    "all_models = {1: 'naive bayes', 2: 'arvore', 3: 'forest',\n",
    "              4: 'knn', 5: 'svm', 6: 'rna'}\n",
    "use_models = [3, 4, 5, 6]\n",
    "\n",
    "# nome do arquivo a serem salvos os resultados\n",
    "nome_arquivo = 'resultados_credito.csv'"
   ]
  },
  {
   "cell_type": "code",
   "execution_count": 41,
   "metadata": {},
   "outputs": [],
   "source": [
    "# Criacao do dataframe que armazenara os resultados\n",
    "seeds = 30\n",
    "result_dataframe = DataFrame(list(range(seeds)), columns=['seed'])\n",
    "average_result = DataFrame()"
   ]
  },
  {
   "cell_type": "code",
   "execution_count": 49,
   "metadata": {},
   "outputs": [
    {
     "name": "stdout",
     "output_type": "stream",
     "text": [
      "\n",
      "Classificador: Forest\n",
      "seed 0: 0.761\n",
      "seed 1: 0.763\n",
      "seed 2: 0.7539999999999999\n",
      "seed 3: 0.764\n",
      "seed 4: 0.771\n",
      "seed 5: 0.7609999999999999\n",
      "seed 6: 0.76\n",
      "seed 7: 0.7590000000000001\n",
      "seed 8: 0.765\n",
      "seed 9: 0.7630000000000001\n",
      "seed 10: 0.773\n",
      "seed 11: 0.763\n",
      "seed 12: 0.768\n",
      "seed 13: 0.752\n",
      "seed 14: 0.768\n",
      "seed 15: 0.7619999999999999\n",
      "seed 16: 0.7609999999999999\n",
      "seed 17: 0.7630000000000001\n",
      "seed 18: 0.759\n",
      "seed 19: 0.7630000000000001\n",
      "seed 20: 0.7510000000000001\n",
      "seed 21: 0.7610000000000001\n",
      "seed 22: 0.76\n",
      "seed 23: 0.772\n",
      "seed 24: 0.764\n",
      "seed 25: 0.764\n",
      "seed 26: 0.773\n",
      "seed 27: 0.767\n",
      "seed 28: 0.765\n",
      "seed 29: 0.7619999999999999\n",
      "\n",
      "Classificador: Knn\n",
      "seed 0: 0.7340000000000001\n",
      "seed 1: 0.728\n",
      "seed 2: 0.728\n",
      "seed 3: 0.719\n",
      "seed 4: 0.7190000000000001\n",
      "seed 5: 0.728\n",
      "seed 6: 0.7209999999999999\n",
      "seed 7: 0.72\n",
      "seed 8: 0.7260000000000001\n",
      "seed 9: 0.722\n",
      "seed 10: 0.729\n",
      "seed 11: 0.723\n",
      "seed 12: 0.7300000000000001\n",
      "seed 13: 0.724\n",
      "seed 14: 0.729\n",
      "seed 15: 0.728\n",
      "seed 16: 0.735\n",
      "seed 17: 0.726\n",
      "seed 18: 0.726\n",
      "seed 19: 0.727\n",
      "seed 20: 0.727\n",
      "seed 21: 0.7230000000000001\n",
      "seed 22: 0.724\n",
      "seed 23: 0.726\n",
      "seed 24: 0.732\n",
      "seed 25: 0.7230000000000001\n",
      "seed 26: 0.7290000000000001\n",
      "seed 27: 0.724\n",
      "seed 28: 0.718\n",
      "seed 29: 0.728\n",
      "\n",
      "Classificador: Svm\n",
      "seed 0: 0.747\n",
      "seed 1: 0.7470000000000001\n",
      "seed 2: 0.749\n",
      "seed 3: 0.7390000000000001\n",
      "seed 4: 0.7420000000000001\n",
      "seed 5: 0.739\n",
      "seed 6: 0.735\n",
      "seed 7: 0.744\n",
      "seed 8: 0.7449999999999999\n",
      "seed 9: 0.75\n",
      "seed 10: 0.738\n",
      "seed 11: 0.7369999999999999\n",
      "seed 12: 0.752\n",
      "seed 13: 0.746\n",
      "seed 14: 0.7430000000000001\n",
      "seed 15: 0.736\n",
      "seed 16: 0.7449999999999999\n",
      "seed 17: 0.7449999999999999\n",
      "seed 18: 0.751\n",
      "seed 19: 0.7409999999999999\n",
      "seed 20: 0.736\n",
      "seed 21: 0.7390000000000001\n",
      "seed 22: 0.745\n",
      "seed 23: 0.758\n",
      "seed 24: 0.752\n",
      "seed 25: 0.7440000000000001\n",
      "seed 26: 0.733\n",
      "seed 27: 0.7460000000000001\n",
      "seed 28: 0.733\n",
      "seed 29: 0.741\n",
      "\n",
      "Classificador: Rna\n",
      "seed 0: 0.719\n",
      "seed 1: 0.689\n",
      "seed 2: 0.7219999999999999\n",
      "seed 3: 0.723\n",
      "seed 4: 0.707\n",
      "seed 5: 0.727\n",
      "seed 6: 0.717\n",
      "seed 7: 0.708\n",
      "seed 8: 0.712\n",
      "seed 9: 0.718\n",
      "seed 10: 0.692\n",
      "seed 11: 0.6990000000000001\n",
      "seed 12: 0.712\n",
      "seed 13: 0.726\n",
      "seed 14: 0.712\n",
      "seed 15: 0.7060000000000001\n",
      "seed 16: 0.7020000000000001\n",
      "seed 17: 0.7139999999999999\n",
      "seed 18: 0.7310000000000001\n",
      "seed 19: 0.718\n",
      "seed 20: 0.71\n",
      "seed 21: 0.703\n",
      "seed 22: 0.7019999999999998\n",
      "seed 23: 0.704\n",
      "seed 24: 0.7100000000000001\n",
      "seed 25: 0.721\n",
      "seed 26: 0.71\n",
      "seed 27: 0.694\n",
      "seed 28: 0.7110000000000001\n",
      "seed 29: 0.704\n"
     ]
    }
   ],
   "source": [
    "# =====   Coleta dos resultados e Criação do arquivo csv   ===== #\n",
    "model_result = []\n",
    "model_name = []\n",
    "\n",
    "# Coletar os resultados associando-os aos respectivos modelos e Armazena-los em disco em formato csv\n",
    "executa_avaliacao(seeds, use_models)"
   ]
  },
  {
   "cell_type": "code",
   "execution_count": 52,
   "metadata": {},
   "outputs": [
    {
     "data": {
      "image/png": "[encoded data removed]",
      "text/plain": [
       "<Figure size 576x360 with 1 Axes>"
      ]
     },
     "metadata": {
      "needs_background": "light"
     },
     "output_type": "display_data"
    }
   ],
   "source": [
    "# Visualização Grafica das Precisoes\n",
    "view_accuracy()"
   ]
  },
  {
   "cell_type": "code",
   "execution_count": 53,
   "metadata": {},
   "outputs": [
    {
     "data": {
      "text/html": [
       "<div>\n",
       "<style scoped>\n",
       "    .dataframe tbody tr th:only-of-type {\n",
       "        vertical-align: middle;\n",
       "    }\n",
       "\n",
       "    .dataframe tbody tr th {\n",
       "        vertical-align: top;\n",
       "    }\n",
       "\n",
       "    .dataframe thead th {\n",
       "        text-align: right;\n",
       "    }\n",
       "</style>\n",
       "<table border=\"1\" class=\"dataframe\">\n",
       "  <thead>\n",
       "    <tr style=\"text-align: right;\">\n",
       "      <th></th>\n",
       "      <th>Forest</th>\n",
       "      <th>Svm</th>\n",
       "      <th>Knn</th>\n",
       "      <th>Rna</th>\n",
       "    </tr>\n",
       "  </thead>\n",
       "  <tbody>\n",
       "    <tr>\n",
       "      <th>0</th>\n",
       "      <td>0.763067</td>\n",
       "      <td>0.743267</td>\n",
       "      <td>0.725867</td>\n",
       "      <td>0.710767</td>\n",
       "    </tr>\n",
       "  </tbody>\n",
       "</table>\n",
       "</div>"
      ],
      "text/plain": [
       "     Forest       Svm       Knn       Rna\n",
       "0  0.763067  0.743267  0.725867  0.710767"
      ]
     },
     "execution_count": 53,
     "metadata": {},
     "output_type": "execute_result"
    }
   ],
   "source": [
    "average_result"
   ]
  },
  {
   "cell_type": "markdown",
   "metadata": {},
   "source": [
    "Classificadores RandomForest e SVM tem obtido sempre os melhores resultados"
   ]
  },
  {
   "cell_type": "markdown",
   "metadata": {},
   "source": [
    "### Criação dos Modelos Finais passíveis ser utilizados"
   ]
  },
  {
   "cell_type": "code",
   "execution_count": 4,
   "metadata": {},
   "outputs": [],
   "source": [
    "# Cria os modelos que mostraram ter melhor precisão\n",
    "def create_models():\n",
    "    forest_model = RandomForestClassifier(n_estimators=85, random_state=1)\n",
    "    forest_model.fit(previsores, classe)\n",
    "\n",
    "    svm_model = SVC(kernel='rbf', C=2.0)\n",
    "    svm_model.fit(previsores, classe)\n",
    "    \n",
    "    return forest_model, svm_model"
   ]
  },
  {
   "cell_type": "code",
   "execution_count": 13,
   "metadata": {},
   "outputs": [
    {
     "name": "stdout",
     "output_type": "stream",
     "text": [
      "\n",
      "modelo_forest:\n",
      " [[700   0]\n",
      " [  0 300]]\n",
      "\n",
      "modelo_svm:\n",
      " [[692   8]\n",
      " [ 93 207]]\n"
     ]
    },
    {
     "data": {
      "text/html": [
       "<div>\n",
       "<style scoped>\n",
       "    .dataframe tbody tr th:only-of-type {\n",
       "        vertical-align: middle;\n",
       "    }\n",
       "\n",
       "    .dataframe tbody tr th {\n",
       "        vertical-align: top;\n",
       "    }\n",
       "\n",
       "    .dataframe thead th {\n",
       "        text-align: right;\n",
       "    }\n",
       "</style>\n",
       "<table border=\"1\" class=\"dataframe\">\n",
       "  <thead>\n",
       "    <tr style=\"text-align: right;\">\n",
       "      <th></th>\n",
       "      <th>modelo_forest</th>\n",
       "      <th>modelo_svm</th>\n",
       "    </tr>\n",
       "  </thead>\n",
       "  <tbody>\n",
       "    <tr>\n",
       "      <th>0</th>\n",
       "      <td>1.0</td>\n",
       "      <td>0.899</td>\n",
       "    </tr>\n",
       "  </tbody>\n",
       "</table>\n",
       "</div>"
      ],
      "text/plain": [
       "   modelo_forest  modelo_svm\n",
       "0            1.0       0.899"
      ]
     },
     "execution_count": 13,
     "metadata": {},
     "output_type": "execute_result"
    }
   ],
   "source": [
    "# Cria os modelos de classificacao\n",
    "classificadores = create_models()\n",
    "list_models = ['modelo_forest', 'modelo_svm']\n",
    "\n",
    "# Avaliação dos modelos carregados\n",
    "precisoes = DataFrame(columns=list_models)\n",
    "matrizes = {}\n",
    "for i in range(len(classificadores)):\n",
    "    precisoes[list_models[i]] = Series(classificadores[i].score(previsores, classe))\n",
    "    \n",
    "    _, matriz = avalia_modelo(list_models[i], classificadores[i], previsores, classe)\n",
    "    matrizes[list_models[i]] = matriz\n",
    "\n",
    "for key, val in matrizes.items():\n",
    "    print(\"\\n{}:\\n {}\".format(key, val))\n",
    "    \n",
    "precisoes"
   ]
  },
  {
   "cell_type": "code",
   "execution_count": 16,
   "metadata": {},
   "outputs": [
    {
     "data": {
      "text/plain": [
       "RandomForestClassifier(bootstrap=True, class_weight=None, criterion='gini',\n",
       "            max_depth=None, max_features='auto', max_leaf_nodes=None,\n",
       "            min_impurity_decrease=0.0, min_impurity_split=None,\n",
       "            min_samples_leaf=1, min_samples_split=2,\n",
       "            min_weight_fraction_leaf=0.0, n_estimators=85, n_jobs=None,\n",
       "            oob_score=False, random_state=1, verbose=0, warm_start=False)"
      ]
     },
     "execution_count": 16,
     "metadata": {},
     "output_type": "execute_result"
    }
   ],
   "source": [
    "classificadores[0]"
   ]
  },
  {
   "cell_type": "markdown",
   "metadata": {},
   "source": [
    "Adota-se o modelo de **RandomForest** com precisão de **76%**"
   ]
  }
 ],
 "metadata": {
  "kernelspec": {
   "display_name": "Python 3",
   "language": "python",
   "name": "python3"
  },
  "language_info": {
   "codemirror_mode": {
    "name": "ipython",
    "version": 3
   },
   "file_extension": ".py",
   "mimetype": "text/x-python",
   "name": "python",
   "nbconvert_exporter": "python",
   "pygments_lexer": "ipython3",
   "version": "3.7.3"
  }
 },
 "nbformat": 4,
 "nbformat_minor": 2
}
