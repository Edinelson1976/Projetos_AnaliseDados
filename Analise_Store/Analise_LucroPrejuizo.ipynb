{
 "cells": [
  {
   "cell_type": "markdown",
   "metadata": {},
   "source": [
    "# Análise dos Lucros/Prejuízos de uma Loja\n",
    "\n",
    "### Dataset\n",
    "**'Sample-Superstore'**. Base de dados de registros de vendas de materiais de escritório em países europeus. Apresenta atributos (*local*, *data_pedido*, *receita*, *lucro*, *fabricante*, entre outros)\n",
    "\n",
    "### Proposta\n",
    "Análise do lucro/prejuízo de uma loja de material de escritório durante os anos de 2015 a 2018.\n",
    "\n",
    "<br></br>\n",
    "***obs.:*** As análises foram feitas utilizando a ferramenta ***Tableau***, da qual foram retiradas todas as imagens apresentadas abaixo."
   ]
  },
  {
   "cell_type": "markdown",
   "metadata": {},
   "source": [
    "## Análise de Receita e Lucro Geral\n",
    "Realiza-se uma análise inicial sobre os diferentes mercados no qual atua a loja."
   ]
  },
  {
   "cell_type": "markdown",
   "metadata": {},
   "source": [
    "![Dashboard](images/img01_geral.png)"
   ]
  },
  {
   "cell_type": "markdown",
   "metadata": {},
   "source": [
    "Uma análise preliminar já permite identificar o **Reino Unido**, a **França** e a **Alemanha** como os mercados mais lucrativos para a loja com lucros de **\\$ 111 mil**, **\\$ 109 mil** e **\\$ 107 mil**, respectivamente. Em contrapartida, **Holanda**, **Suécia**, **Portugal**, **Irlanda** e **Dinamarca** apresentam um quadro de prejuízo.\n",
    "\n",
    "A fim de evitar perder dinheiro é preciso fazer uma análise dos números da loja nesses países, em especial na **Holanda**, pois é o país na qual a empresa apresenta pior situação com prejuízo de **\\$ 41 mil**."
   ]
  },
  {
   "cell_type": "markdown",
   "metadata": {},
   "source": [
    "## Análise do Prejuízo na Holanda"
   ]
  },
  {
   "cell_type": "markdown",
   "metadata": {},
   "source": [
    "![Dashboard_Netherland](images/img02_geral_holanda.png)"
   ]
  },
  {
   "cell_type": "markdown",
   "metadata": {},
   "source": [
    "Os números da empresa no país estão péssimos, todas as sub-categorias de produtos apresentam prejuízo (com exceção de mobiliário, que apresenta um lucro pequeno). Dentre todas as sub-categorias, as que mais se destacam são as de **Estantes**, **Copiadoras**, **Cadeiras** e **Armazenamento**. Juntas, elas somam um prejuízo total de aproximadamente **\\$ 24 mil**, o que corresponde a **60\\%** do prejuízo de total no país.\n",
    "\n",
    "Portanto, ações para reverter os números desses produtos tendem a impactar mais significativamente o caixa da empresa e por isso devem ser priorizados."
   ]
  },
  {
   "cell_type": "markdown",
   "metadata": {},
   "source": [
    "## Análise das Subcategorias de maior prejuízo\n",
    "Uma vez identificadas as subcategorias de produtos mais prejudiciais pra saúde financeira da empresa no país de estudo, aprofundamos a análise, buscando quais são os produtos dessas subcategorias que geram os maiores prejuízo de forma a permitir ações direcionadas a esses eles."
   ]
  },
  {
   "cell_type": "markdown",
   "metadata": {},
   "source": [
    "![Dashboard_Fabricante](images/img03_fabricante_holanda.png)"
   ]
  },
  {
   "cell_type": "markdown",
   "metadata": {},
   "source": [
    "### Estantes\n",
    "5 produtos são responsáveis por 50\\% do prejuízo da subcategoria somando quase **\\$ 4 mil** em perdas. Esses produtos são:\n",
    "<ul>\n",
    "  <li><b>Bush Library with Doors, Traditional</b></li>\n",
    "  <li><b>Dania Library with Doors, Pine</b></li>\n",
    "  <li><b>Safco Classic Bookcase, Traditional</b></li>\n",
    "  <li><b>Dania Classic Bookcase, Pine</b></li>\n",
    "  <li><b>Sauder Classic Bookcase, Pine</b></li>\n",
    "</ul>"
   ]
  },
  {
   "cell_type": "markdown",
   "metadata": {},
   "source": [
    "### Copiadoras\n",
    "4 produtos são responsáveis por 70\\% do prejuízo da subcategoria somando **\\$ 4.3 mil** em perdas. Esses produtos são:\n",
    "<ul>\n",
    "  <li><b>Canon Wireless Fax, Color</b></li>\n",
    "  <li><b>HP Wireless Fax, Laser</b></li>\n",
    "  <li><b>Canon Copy Machine, Digital</b></li>\n",
    "  <li><b>Brother Copy Machine, Color</b></li>\n",
    "</ul>"
   ]
  },
  {
   "cell_type": "markdown",
   "metadata": {},
   "source": [
    "### Cadeiras\n",
    "2 produtos são responsáveis por 61\\% do prejuízo da subcategoria somando **\\$ 3.2 mil** em perdas. Esses produtos são:\n",
    "<ul>\n",
    "  <li><b>Office Start Executive Leather Armchair, Black</b></li>\n",
    "  <li><b>Novimex Executive Leather Armchair, Red</b></li>\n",
    "</ul>"
   ]
  },
  {
   "cell_type": "markdown",
   "metadata": {},
   "source": [
    "### Armazenamento\n",
    "4 produtos são responsáveis por 40\\% do prejuízo da subcategoria somando quase **\\$ 2 mil** em perdas. Esses produtos são:\n",
    "<ul>\n",
    "  <li><b>Smead Lockers, Blue</b></li>\n",
    "  <li><b>Smead File Cart, Single Width</b></li>\n",
    "  <li><b>Rogers Lockers, Wire Frame</b></li>\n",
    "  <li><b>Fellowes File Cart, Single Width</b></li>\n",
    "</ul>"
   ]
  },
  {
   "cell_type": "markdown",
   "metadata": {},
   "source": [
    "## Análise da relação de Vendas e Prejuízo\n",
    "A fim de identificar com está a evolução das vendas e do prejuízo no tempo é feita a análise a seguir utilizando os piores produtos elencados na análise anterior."
   ]
  },
  {
   "cell_type": "markdown",
   "metadata": {},
   "source": [
    "### Copiadoras, Cadeiras e Armazenamento"
   ]
  },
  {
   "cell_type": "markdown",
   "metadata": {},
   "source": [
    "![Dashboard_CCA_notempo](images/img04_cca_tempo.png)"
   ]
  },
  {
   "cell_type": "markdown",
   "metadata": {},
   "source": [
    "O gráfico acima mostra a receita de venda e o prejuízo que se obteve para os produtos listados na análise anterior para as subcategorias **Copiadoras**, **Cadeiras** e **Armazenamento** no tempo. E um fato interessante é revelado:\n",
    "\n",
    " ***Um aumento na venda desses produtos coincide com um aumento do prejuízo.***\n",
    "\n",
    "Talvez uma análise mais profunda seja necessária, mas a venda desses produtos não estão gerando lucro para a empresa. Seria recomendável, então, retirar esses produtos do catálogo da loja."
   ]
  },
  {
   "cell_type": "markdown",
   "metadata": {},
   "source": [
    "### Estantes"
   ]
  },
  {
   "cell_type": "markdown",
   "metadata": {},
   "source": [
    "![Dashboard_Estante_notempo](images/img05_estante_tempo.png)"
   ]
  },
  {
   "cell_type": "markdown",
   "metadata": {},
   "source": [
    "O fenômeno anterior não parece estar presente quando se fala de estantes. Contudo, é possível perceber que após **Dezembro de 2015** alguma coisa aconteceu que impactou fortemente os lucros resultando em um salto nos prejuízos.\n",
    "\n",
    "É importante buscar quais medidas e decisões foram tomadas nesse período em busca de descobrir as causas dessa piora nos prejuízos para essa subcategoria."
   ]
  },
  {
   "cell_type": "markdown",
   "metadata": {},
   "source": [
    "## Análise da relação de Vendas e Lucro nos Países\n",
    "Durante a análise sobre as subcategorias *Copiadoras*, *Cadeiras* e *Armazenamento* relativa as vendas na Holanda, foi descoberto um fenômenos incomum, que é o aumento da receita de vendas ligado ao aumento no prejuízo.\n",
    "\n",
    "A descoberta desse fenômeno levou-me a questionar se em outros países também era detectado sua presença, o que levou a uma descoberta interessante."
   ]
  },
  {
   "cell_type": "markdown",
   "metadata": {},
   "source": [
    "![Dashboard_PaisesPrejuizo](images/img06_paises_prejuizo.png)"
   ]
  },
  {
   "cell_type": "markdown",
   "metadata": {},
   "source": [
    "![Dashboard_PaisesLucro](images/img07_paises_lucro.png)"
   ]
  },
  {
   "cell_type": "markdown",
   "metadata": {},
   "source": [
    "Os **países** que possuem **operações lucrativas** para a loja obedecem a uma **relação proporcional positiva** entre **receita e lucro**, ou seja, quanto maior a receita obtida com as vendas maior o lucro.\n",
    "\n",
    "No entanto, os **países** nos quais a loja possui **déficit de caixa**, essa **relação é justamente oposta** sendo identificado o tal fenômeno em que um aumento na receita coincide com uma redução do lucro ou aumento no prejuízo. Embora seja uma situação anormal, mas é possível que nesses países más decisões gerenciais estejam sendo tomadas."
   ]
  }
 ],
 "metadata": {
  "kernelspec": {
   "display_name": "Python 3",
   "language": "python",
   "name": "python3"
  },
  "language_info": {
   "codemirror_mode": {
    "name": "ipython",
    "version": 3
   },
   "file_extension": ".py",
   "mimetype": "text/x-python",
   "name": "python",
   "nbconvert_exporter": "python",
   "pygments_lexer": "ipython3",
   "version": "3.7.1"
  }
 },
 "nbformat": 4,
 "nbformat_minor": 2
}
